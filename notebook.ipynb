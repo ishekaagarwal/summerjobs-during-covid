{
  "cells": [
    {
      "cell_type": "code",
      "metadata": {
        "tags": [],
        "cell_id": "00000-42fea1d6-c387-47e5-82fb-6e9702984a87",
        "deepnote_to_be_reexecuted": false,
        "source_hash": "5449cf57",
        "execution_millis": 3,
        "execution_start": 1617835534677,
        "deepnote_cell_type": "code"
      },
      "source": "import plotly.graph_objects as go\n\nfig = go.Figure()",
      "execution_count": 20,
      "outputs": []
    },
    {
      "cell_type": "code",
      "metadata": {
        "tags": [],
        "cell_id": "00001-4d84f370-455e-408f-a38e-3c3d60e5b92f",
        "deepnote_to_be_reexecuted": false,
        "source_hash": "263b72e1",
        "execution_millis": 2,
        "execution_start": 1617835535494,
        "deepnote_cell_type": "code"
      },
      "source": "# HODP colors\nmonochrome_colors = ['#251616', '#760000', '#C63F3F', '#E28073', '#F1D3CF']\nprimary_colors = ['#C63F3F', '#F4B436', '#83BFCC', '#455574', '#E2DDDB']\n\n# HODP template\ntheme_hodp = go.layout.Template(\n    layout=go.Layout(\n        title = {'font':{'size':24, 'family':\"Helvetica\", 'color':monochrome_colors[0]}, 'pad':{'t':100, 'r':0, 'b':0, 'l':0}},\n        font = {'size':18, 'family':'Helvetica', 'color':'#717171'},\n        xaxis = {'ticks': \"outside\",\n                'tickfont': {'size': 14, 'family':\"Helvetica\"},\n                'showticksuffix': 'all',\n                'showtickprefix': 'last',\n                'showline': True,\n                'title':{'font':{'size':18, 'family':'Helvetica'}, 'standoff':20},\n                'automargin': True\n                },\n        yaxis = {'ticks': \"outside\",\n                'tickfont': {'size': 14, 'family':\"Helvetica\"},\n                'showticksuffix': 'all',\n                'showtickprefix': 'last',\n                'title':{'font':{'size':18, 'family':'Helvetica'}, 'standoff':20},\n                'showline': True,\n                'automargin': True\n                },\n        legend = {'bgcolor':'rgba(0,0,0,0)', \n                'title':{'font':{'size':18, 'family':\"Helvetica\", 'color':monochrome_colors[0]}}, \n                'font':{'size':14, 'family':\"Helvetica\"}, \n                'yanchor':'bottom'\n                },\n        colorscale = {'diverging':monochrome_colors},\n        coloraxis = {'autocolorscale':True, \n                'cauto':True, \n                'colorbar':{'tickfont':{'size':14,'family':'Helvetica'}, 'title':{'font':{'size':18, 'family':'Helvetica'}}},\n                }\n    )\n)",
      "execution_count": 21,
      "outputs": []
    },
    {
      "cell_type": "code",
      "metadata": {
        "tags": [],
        "cell_id": "00002-98ca0e7f-8e5d-4e49-93b9-9c5eca4e85fb",
        "deepnote_to_be_reexecuted": false,
        "source_hash": "e9015f16",
        "execution_millis": 34,
        "execution_start": 1617835536253,
        "deepnote_cell_type": "code"
      },
      "source": "import numpy as np\nimport pandas as pd\n\nimport plotly.graph_objects as go\n\ndf = pd.read_csv(\"summer_jobs.csv\")\n\ndf.head()",
      "execution_count": 22,
      "outputs": [
        {
          "output_type": "execute_result",
          "execution_count": 22,
          "data": {
            "application/vnd.deepnote.dataframe.v2+json": {
              "row_count": 5,
              "column_count": 10,
              "columns": [
                {
                  "name": "Q6",
                  "dtype": "object",
                  "stats": {
                    "unique_count": 3,
                    "nan_count": 0,
                    "categories": [
                      {
                        "name": "2023",
                        "count": 2
                      },
                      {
                        "name": "2024",
                        "count": 2
                      },
                      {
                        "name": "What is your social year?",
                        "count": 1
                      }
                    ]
                  }
                },
                {
                  "name": "Q7",
                  "dtype": "object",
                  "stats": {
                    "unique_count": 5,
                    "nan_count": 0,
                    "categories": [
                      {
                        "name": "What is your concentration? Select all that apply.",
                        "count": 1
                      },
                      {
                        "name": "Integrative Biology",
                        "count": 1
                      },
                      {
                        "name": "3 others",
                        "count": 3
                      }
                    ]
                  }
                },
                {
                  "name": "Q1",
                  "dtype": "object",
                  "stats": {
                    "unique_count": 4,
                    "nan_count": 0,
                    "categories": [
                      {
                        "name": "Research",
                        "count": 2
                      },
                      {
                        "name": "What are your current plans for Summer 2021? - Selected Choice",
                        "count": 1
                      },
                      {
                        "name": "2 others",
                        "count": 2
                      }
                    ]
                  }
                },
                {
                  "name": "Q1_9_TEXT",
                  "dtype": "object",
                  "stats": {
                    "unique_count": 2,
                    "nan_count": 3,
                    "categories": [
                      {
                        "name": "What are your current plans for Summer 2021? - Other - Text",
                        "count": 1
                      },
                      {
                        "name": "Summer School",
                        "count": 1
                      },
                      {
                        "name": "Missing",
                        "count": 3
                      }
                    ]
                  }
                },
                {
                  "name": "Q2",
                  "dtype": "object",
                  "stats": {
                    "unique_count": 3,
                    "nan_count": 0,
                    "categories": [
                      {
                        "name": "In-Person",
                        "count": 2
                      },
                      {
                        "name": "Remote",
                        "count": 2
                      },
                      {
                        "name": "If you have summer plans, how will they be conducted?",
                        "count": 1
                      }
                    ]
                  }
                },
                {
                  "name": "Q3_1",
                  "dtype": "object",
                  "stats": {
                    "unique_count": 3,
                    "nan_count": 0,
                    "categories": [
                      {
                        "name": "4",
                        "count": 3
                      },
                      {
                        "name": "How satisfied are you with your current summer plans, from not satisfied (1) to very satisfied (5)? - Satisfaction",
                        "count": 1
                      },
                      {
                        "name": "3",
                        "count": 1
                      }
                    ]
                  }
                },
                {
                  "name": "Q4",
                  "dtype": "object",
                  "stats": {
                    "unique_count": 4,
                    "nan_count": 0,
                    "categories": [
                      {
                        "name": "No Plans",
                        "count": 2
                      },
                      {
                        "name": "What did you do during Summer 2020? - Selected Choice",
                        "count": 1
                      },
                      {
                        "name": "2 others",
                        "count": 2
                      }
                    ]
                  }
                },
                {
                  "name": "Q4_8_TEXT",
                  "dtype": "object",
                  "stats": {
                    "unique_count": 1,
                    "nan_count": 4,
                    "categories": [
                      {
                        "name": "What did you do during Summer 2020? - Other - Text",
                        "count": 1
                      },
                      {
                        "name": "Missing",
                        "count": 4
                      }
                    ]
                  }
                },
                {
                  "name": "Q5",
                  "dtype": "object",
                  "stats": {
                    "unique_count": 2,
                    "nan_count": 0,
                    "categories": [
                      {
                        "name": "Yes",
                        "count": 4
                      },
                      {
                        "name": "Did your Summer 2020 plans change due to the pandemic?",
                        "count": 1
                      }
                    ]
                  }
                },
                {
                  "name": "Q10_1",
                  "dtype": "object",
                  "stats": {
                    "unique_count": 3,
                    "nan_count": 0,
                    "categories": [
                      {
                        "name": "2",
                        "count": 2
                      },
                      {
                        "name": "4",
                        "count": 2
                      },
                      {
                        "name": "How satisfied were you with your plans during Summer 2021, from not satisfied (1) to very satisfied (5)? - Satisfaction",
                        "count": 1
                      }
                    ]
                  }
                },
                {
                  "name": "_deepnote_index_column",
                  "dtype": "int64"
                }
              ],
              "rows_top": [
                {
                  "Q6": "What is your social year?",
                  "Q7": "What is your concentration? Select all that apply.",
                  "Q1": "What are your current plans for Summer 2021? - Selected Choice",
                  "Q1_9_TEXT": "What are your current plans for Summer 2021? - Other - Text",
                  "Q2": "If you have summer plans, how will they be conducted?",
                  "Q3_1": "How satisfied are you with your current summer plans, from not satisfied (1) to very satisfied (5)? - Satisfaction",
                  "Q4": "What did you do during Summer 2020? - Selected Choice",
                  "Q4_8_TEXT": "What did you do during Summer 2020? - Other - Text",
                  "Q5": "Did your Summer 2020 plans change due to the pandemic?",
                  "Q10_1": "How satisfied were you with your plans during Summer 2021, from not satisfied (1) to very satisfied (5)? - Satisfaction",
                  "_deepnote_index_column": 0
                },
                {
                  "Q6": "2023",
                  "Q7": "Integrative Biology",
                  "Q1": "Research",
                  "Q1_9_TEXT": "nan",
                  "Q2": "In-Person",
                  "Q3_1": "4",
                  "Q4": "Part-Time Internship",
                  "Q4_8_TEXT": "nan",
                  "Q5": "Yes",
                  "Q10_1": "2",
                  "_deepnote_index_column": 1
                },
                {
                  "Q6": "2024",
                  "Q7": "Undecided",
                  "Q1": "Research",
                  "Q1_9_TEXT": "nan",
                  "Q2": "Remote",
                  "Q3_1": "4",
                  "Q4": "No Plans",
                  "Q4_8_TEXT": "nan",
                  "Q5": "Yes",
                  "Q10_1": "2",
                  "_deepnote_index_column": 2
                },
                {
                  "Q6": "2023",
                  "Q7": "Social Studies",
                  "Q1": "Full-Time Internship",
                  "Q1_9_TEXT": "nan",
                  "Q2": "Remote",
                  "Q3_1": "3",
                  "Q4": "Full-Time Internship",
                  "Q4_8_TEXT": "nan",
                  "Q5": "Yes",
                  "Q10_1": "4",
                  "_deepnote_index_column": 3
                },
                {
                  "Q6": "2024",
                  "Q7": "Government",
                  "Q1": "Other",
                  "Q1_9_TEXT": "Summer School",
                  "Q2": "In-Person",
                  "Q3_1": "4",
                  "Q4": "No Plans",
                  "Q4_8_TEXT": "nan",
                  "Q5": "Yes",
                  "Q10_1": "4",
                  "_deepnote_index_column": 4
                }
              ],
              "rows_bottom": null
            },
            "text/plain": "                          Q6  \\\n0  What is your social year?   \n1                       2023   \n2                       2024   \n3                       2023   \n4                       2024   \n\n                                                  Q7  \\\n0  What is your concentration? Select all that ap...   \n1                                Integrative Biology   \n2                                          Undecided   \n3                                     Social Studies   \n4                                         Government   \n\n                                                  Q1  \\\n0  What are your current plans for Summer 2021? -...   \n1                                           Research   \n2                                           Research   \n3                               Full-Time Internship   \n4                                              Other   \n\n                                           Q1_9_TEXT  \\\n0  What are your current plans for Summer 2021? -...   \n1                                                NaN   \n2                                                NaN   \n3                                                NaN   \n4                                      Summer School   \n\n                                                  Q2  \\\n0  If you have summer plans, how will they be con...   \n1                                          In-Person   \n2                                             Remote   \n3                                             Remote   \n4                                          In-Person   \n\n                                                Q3_1  \\\n0  How satisfied are you with your current summer...   \n1                                                  4   \n2                                                  4   \n3                                                  3   \n4                                                  4   \n\n                                                  Q4  \\\n0  What did you do during Summer 2020? - Selected...   \n1                               Part-Time Internship   \n2                                           No Plans   \n3                               Full-Time Internship   \n4                                           No Plans   \n\n                                           Q4_8_TEXT  \\\n0  What did you do during Summer 2020? - Other - ...   \n1                                                NaN   \n2                                                NaN   \n3                                                NaN   \n4                                                NaN   \n\n                                                  Q5  \\\n0  Did your Summer 2020 plans change due to the p...   \n1                                                Yes   \n2                                                Yes   \n3                                                Yes   \n4                                                Yes   \n\n                                               Q10_1  \n0  How satisfied were you with your plans during ...  \n1                                                  2  \n2                                                  2  \n3                                                  4  \n4                                                  4  ",
            "text/html": "<div>\n<style scoped>\n    .dataframe tbody tr th:only-of-type {\n        vertical-align: middle;\n    }\n\n    .dataframe tbody tr th {\n        vertical-align: top;\n    }\n\n    .dataframe thead th {\n        text-align: right;\n    }\n</style>\n<table border=\"1\" class=\"dataframe\">\n  <thead>\n    <tr style=\"text-align: right;\">\n      <th></th>\n      <th>Q6</th>\n      <th>Q7</th>\n      <th>Q1</th>\n      <th>Q1_9_TEXT</th>\n      <th>Q2</th>\n      <th>Q3_1</th>\n      <th>Q4</th>\n      <th>Q4_8_TEXT</th>\n      <th>Q5</th>\n      <th>Q10_1</th>\n    </tr>\n  </thead>\n  <tbody>\n    <tr>\n      <th>0</th>\n      <td>What is your social year?</td>\n      <td>What is your concentration? Select all that ap...</td>\n      <td>What are your current plans for Summer 2021? -...</td>\n      <td>What are your current plans for Summer 2021? -...</td>\n      <td>If you have summer plans, how will they be con...</td>\n      <td>How satisfied are you with your current summer...</td>\n      <td>What did you do during Summer 2020? - Selected...</td>\n      <td>What did you do during Summer 2020? - Other - ...</td>\n      <td>Did your Summer 2020 plans change due to the p...</td>\n      <td>How satisfied were you with your plans during ...</td>\n    </tr>\n    <tr>\n      <th>1</th>\n      <td>2023</td>\n      <td>Integrative Biology</td>\n      <td>Research</td>\n      <td>NaN</td>\n      <td>In-Person</td>\n      <td>4</td>\n      <td>Part-Time Internship</td>\n      <td>NaN</td>\n      <td>Yes</td>\n      <td>2</td>\n    </tr>\n    <tr>\n      <th>2</th>\n      <td>2024</td>\n      <td>Undecided</td>\n      <td>Research</td>\n      <td>NaN</td>\n      <td>Remote</td>\n      <td>4</td>\n      <td>No Plans</td>\n      <td>NaN</td>\n      <td>Yes</td>\n      <td>2</td>\n    </tr>\n    <tr>\n      <th>3</th>\n      <td>2023</td>\n      <td>Social Studies</td>\n      <td>Full-Time Internship</td>\n      <td>NaN</td>\n      <td>Remote</td>\n      <td>3</td>\n      <td>Full-Time Internship</td>\n      <td>NaN</td>\n      <td>Yes</td>\n      <td>4</td>\n    </tr>\n    <tr>\n      <th>4</th>\n      <td>2024</td>\n      <td>Government</td>\n      <td>Other</td>\n      <td>Summer School</td>\n      <td>In-Person</td>\n      <td>4</td>\n      <td>No Plans</td>\n      <td>NaN</td>\n      <td>Yes</td>\n      <td>4</td>\n    </tr>\n  </tbody>\n</table>\n</div>"
          },
          "metadata": {}
        }
      ]
    },
    {
      "cell_type": "code",
      "metadata": {
        "tags": [],
        "cell_id": "00003-9243c4be-74cc-4c2c-8b11-ae2090532a90",
        "deepnote_to_be_reexecuted": false,
        "source_hash": "72d83fdb",
        "execution_millis": 92,
        "execution_start": 1617835536897,
        "deepnote_cell_type": "code"
      },
      "source": "col_list = [\"Q6\", \"Q5\"]\ndf = pd.read_csv(\"summer_jobs.csv\", usecols=col_list)\ndf.head()",
      "execution_count": 23,
      "outputs": [
        {
          "output_type": "execute_result",
          "execution_count": 23,
          "data": {
            "application/vnd.deepnote.dataframe.v2+json": {
              "row_count": 5,
              "column_count": 2,
              "columns": [
                {
                  "name": "Q6",
                  "dtype": "object",
                  "stats": {
                    "unique_count": 3,
                    "nan_count": 0,
                    "categories": [
                      {
                        "name": "2023",
                        "count": 2
                      },
                      {
                        "name": "2024",
                        "count": 2
                      },
                      {
                        "name": "What is your social year?",
                        "count": 1
                      }
                    ]
                  }
                },
                {
                  "name": "Q5",
                  "dtype": "object",
                  "stats": {
                    "unique_count": 2,
                    "nan_count": 0,
                    "categories": [
                      {
                        "name": "Yes",
                        "count": 4
                      },
                      {
                        "name": "Did your Summer 2020 plans change due to the pandemic?",
                        "count": 1
                      }
                    ]
                  }
                },
                {
                  "name": "_deepnote_index_column",
                  "dtype": "int64"
                }
              ],
              "rows_top": [
                {
                  "Q6": "What is your social year?",
                  "Q5": "Did your Summer 2020 plans change due to the pandemic?",
                  "_deepnote_index_column": 0
                },
                {
                  "Q6": "2023",
                  "Q5": "Yes",
                  "_deepnote_index_column": 1
                },
                {
                  "Q6": "2024",
                  "Q5": "Yes",
                  "_deepnote_index_column": 2
                },
                {
                  "Q6": "2023",
                  "Q5": "Yes",
                  "_deepnote_index_column": 3
                },
                {
                  "Q6": "2024",
                  "Q5": "Yes",
                  "_deepnote_index_column": 4
                }
              ],
              "rows_bottom": null
            },
            "text/plain": "                          Q6  \\\n0  What is your social year?   \n1                       2023   \n2                       2024   \n3                       2023   \n4                       2024   \n\n                                                  Q5  \n0  Did your Summer 2020 plans change due to the p...  \n1                                                Yes  \n2                                                Yes  \n3                                                Yes  \n4                                                Yes  ",
            "text/html": "<div>\n<style scoped>\n    .dataframe tbody tr th:only-of-type {\n        vertical-align: middle;\n    }\n\n    .dataframe tbody tr th {\n        vertical-align: top;\n    }\n\n    .dataframe thead th {\n        text-align: right;\n    }\n</style>\n<table border=\"1\" class=\"dataframe\">\n  <thead>\n    <tr style=\"text-align: right;\">\n      <th></th>\n      <th>Q6</th>\n      <th>Q5</th>\n    </tr>\n  </thead>\n  <tbody>\n    <tr>\n      <th>0</th>\n      <td>What is your social year?</td>\n      <td>Did your Summer 2020 plans change due to the p...</td>\n    </tr>\n    <tr>\n      <th>1</th>\n      <td>2023</td>\n      <td>Yes</td>\n    </tr>\n    <tr>\n      <th>2</th>\n      <td>2024</td>\n      <td>Yes</td>\n    </tr>\n    <tr>\n      <th>3</th>\n      <td>2023</td>\n      <td>Yes</td>\n    </tr>\n    <tr>\n      <th>4</th>\n      <td>2024</td>\n      <td>Yes</td>\n    </tr>\n  </tbody>\n</table>\n</div>"
          },
          "metadata": {}
        }
      ]
    },
    {
      "cell_type": "code",
      "metadata": {
        "tags": [],
        "cell_id": "00004-fc687f5f-3bc5-4ea5-b81b-0e3e2d4b982b",
        "deepnote_to_be_reexecuted": false,
        "source_hash": "d0f8a076",
        "execution_millis": 274,
        "execution_start": 1617835537926,
        "deepnote_cell_type": "code"
      },
      "source": "col_list = [\"Q6\", \"Q5\"]\ndf = pd.read_csv(\"summer_jobs.csv\", usecols=col_list)\nlst = df[1:]\nlength = len(lst)\n\ndef update (year):\n    yes = 0\n    no = 0\n    for i in range (1, length+1):\n        if lst[\"Q6\"][i] == year:\n            if lst[\"Q5\"][i] == 'Yes':\n                yes = yes +1\n            else:\n                no = no +1\n    return [int(year), yes, no]\n\nfor i in range (0,4):\n    yr = str(2024 - i) \n    print(\"Year: \" + str(update(yr)[0]) + \" | Yes: \" + str(update(yr)[1]) + \" | No: \" + str(update(yr)[2]))",
      "execution_count": 24,
      "outputs": [
        {
          "name": "stdout",
          "text": "Year: 2024 | Yes: 37 | No: 19\nYear: 2023 | Yes: 32 | No: 13\nYear: 2022 | Yes: 30 | No: 6\nYear: 2021 | Yes: 7 | No: 3\n",
          "output_type": "stream"
        }
      ]
    },
    {
      "cell_type": "markdown",
      "source": "NOTE: 2 individuals answered \"Other,\" so they do not fall into the class year categories",
      "metadata": {
        "tags": [],
        "cell_id": "00005-863abd84-ec03-4dca-91dd-12b7e9900a87",
        "deepnote_cell_type": "markdown"
      }
    },
    {
      "cell_type": "code",
      "metadata": {
        "tags": [],
        "cell_id": "00005-e1fbd509-35ba-415e-90da-e448e3e40615",
        "deepnote_to_be_reexecuted": false,
        "source_hash": "85ec0722",
        "execution_millis": 9,
        "execution_start": 1617835540131,
        "deepnote_cell_type": "code"
      },
      "source": "X = ['2021', '2022', '2023', '2024']\nY1 = [70, 83.3, 71.1, 66.1]\nY2 = [30, 16.7 , 28.9, 33.9]\n\nfig = go.Figure()\nfig.add_trace(go.Bar(\n    x=X, \n    y=Y1, \n    name=\"Yes\",\n    marker_color=primary_colors[0],\n))\n\nfig.add_trace(go.Bar(x=X, y=Y2, name=\"No\", marker_color=primary_colors[3],))\n\nfig.update_layout(\n    barmode='stack',\n    title= {'text': \"Changes to 2020 Student Summer Plans\",\n            'y':0.9,\n            'x':0.5,\n            'xanchor': 'center',\n            'yanchor': 'top'},\n    xaxis_title=\"Class Year\",\n    yaxis_title=\"Percentage of Student Respondents\")\n\nfig.show()",
      "execution_count": 25,
      "outputs": [
        {
          "data": {
            "text/html": "<html>\n<head><meta charset=\"utf-8\" /></head>\n<body>\n    <div>            <script src=\"https://cdnjs.cloudflare.com/ajax/libs/mathjax/2.7.5/MathJax.js?config=TeX-AMS-MML_SVG\"></script><script type=\"text/javascript\">if (window.MathJax) {MathJax.Hub.Config({SVG: {font: \"STIX-Web\"}});}</script>                <script type=\"text/javascript\">window.PlotlyConfig = {MathJaxConfig: 'local'};</script>\n        <script src=\"https://cdn.plot.ly/plotly-latest.min.js\"></script>                <div id=\"20f156d0-f9bd-42d1-9f38-9af47e6b21a7\" class=\"plotly-graph-div\" style=\"height:525px; width:100%;\"></div>            <script type=\"text/javascript\">                                    window.PLOTLYENV=window.PLOTLYENV || {};                                    if (document.getElementById(\"20f156d0-f9bd-42d1-9f38-9af47e6b21a7\")) {                    Plotly.newPlot(                        \"20f156d0-f9bd-42d1-9f38-9af47e6b21a7\",                        [{\"marker\": {\"color\": \"#C63F3F\"}, \"name\": \"Yes\", \"type\": \"bar\", \"x\": [\"2021\", \"2022\", \"2023\", \"2024\"], \"y\": [70, 83.3, 71.1, 66.1]}, {\"marker\": {\"color\": \"#455574\"}, \"name\": \"No\", \"type\": \"bar\", \"x\": [\"2021\", \"2022\", \"2023\", \"2024\"], \"y\": [30, 16.7, 28.9, 33.9]}],                        {\"barmode\": \"stack\", \"template\": {\"data\": {\"bar\": [{\"error_x\": {\"color\": \"#2a3f5f\"}, \"error_y\": {\"color\": \"#2a3f5f\"}, \"marker\": {\"line\": {\"color\": \"#E5ECF6\", \"width\": 0.5}}, \"type\": \"bar\"}], \"barpolar\": [{\"marker\": {\"line\": {\"color\": \"#E5ECF6\", \"width\": 0.5}}, \"type\": \"barpolar\"}], \"carpet\": [{\"aaxis\": {\"endlinecolor\": \"#2a3f5f\", \"gridcolor\": \"white\", \"linecolor\": \"white\", \"minorgridcolor\": \"white\", \"startlinecolor\": \"#2a3f5f\"}, \"baxis\": {\"endlinecolor\": \"#2a3f5f\", \"gridcolor\": \"white\", \"linecolor\": \"white\", \"minorgridcolor\": \"white\", \"startlinecolor\": \"#2a3f5f\"}, \"type\": \"carpet\"}], \"choropleth\": [{\"colorbar\": {\"outlinewidth\": 0, \"ticks\": \"\"}, \"type\": \"choropleth\"}], \"contour\": [{\"colorbar\": {\"outlinewidth\": 0, \"ticks\": \"\"}, \"colorscale\": [[0.0, \"#0d0887\"], [0.1111111111111111, \"#46039f\"], [0.2222222222222222, \"#7201a8\"], [0.3333333333333333, \"#9c179e\"], [0.4444444444444444, \"#bd3786\"], [0.5555555555555556, \"#d8576b\"], [0.6666666666666666, \"#ed7953\"], [0.7777777777777778, \"#fb9f3a\"], [0.8888888888888888, \"#fdca26\"], [1.0, \"#f0f921\"]], \"type\": \"contour\"}], \"contourcarpet\": [{\"colorbar\": {\"outlinewidth\": 0, \"ticks\": \"\"}, \"type\": \"contourcarpet\"}], \"heatmap\": [{\"colorbar\": {\"outlinewidth\": 0, \"ticks\": \"\"}, \"colorscale\": [[0.0, \"#0d0887\"], [0.1111111111111111, \"#46039f\"], [0.2222222222222222, \"#7201a8\"], [0.3333333333333333, \"#9c179e\"], [0.4444444444444444, \"#bd3786\"], [0.5555555555555556, \"#d8576b\"], [0.6666666666666666, \"#ed7953\"], [0.7777777777777778, \"#fb9f3a\"], [0.8888888888888888, \"#fdca26\"], [1.0, \"#f0f921\"]], \"type\": \"heatmap\"}], \"heatmapgl\": [{\"colorbar\": {\"outlinewidth\": 0, \"ticks\": \"\"}, \"colorscale\": [[0.0, \"#0d0887\"], [0.1111111111111111, \"#46039f\"], [0.2222222222222222, \"#7201a8\"], [0.3333333333333333, \"#9c179e\"], [0.4444444444444444, \"#bd3786\"], [0.5555555555555556, \"#d8576b\"], [0.6666666666666666, \"#ed7953\"], [0.7777777777777778, \"#fb9f3a\"], [0.8888888888888888, \"#fdca26\"], [1.0, \"#f0f921\"]], \"type\": \"heatmapgl\"}], \"histogram\": [{\"marker\": {\"colorbar\": {\"outlinewidth\": 0, \"ticks\": \"\"}}, \"type\": \"histogram\"}], \"histogram2d\": [{\"colorbar\": {\"outlinewidth\": 0, \"ticks\": \"\"}, \"colorscale\": [[0.0, \"#0d0887\"], [0.1111111111111111, \"#46039f\"], [0.2222222222222222, \"#7201a8\"], [0.3333333333333333, \"#9c179e\"], [0.4444444444444444, \"#bd3786\"], [0.5555555555555556, \"#d8576b\"], [0.6666666666666666, \"#ed7953\"], [0.7777777777777778, \"#fb9f3a\"], [0.8888888888888888, \"#fdca26\"], [1.0, \"#f0f921\"]], \"type\": \"histogram2d\"}], \"histogram2dcontour\": [{\"colorbar\": {\"outlinewidth\": 0, \"ticks\": \"\"}, \"colorscale\": [[0.0, \"#0d0887\"], [0.1111111111111111, \"#46039f\"], [0.2222222222222222, \"#7201a8\"], [0.3333333333333333, \"#9c179e\"], [0.4444444444444444, \"#bd3786\"], [0.5555555555555556, \"#d8576b\"], [0.6666666666666666, \"#ed7953\"], [0.7777777777777778, \"#fb9f3a\"], [0.8888888888888888, \"#fdca26\"], [1.0, \"#f0f921\"]], \"type\": \"histogram2dcontour\"}], \"mesh3d\": [{\"colorbar\": {\"outlinewidth\": 0, \"ticks\": \"\"}, \"type\": \"mesh3d\"}], \"parcoords\": [{\"line\": {\"colorbar\": {\"outlinewidth\": 0, \"ticks\": \"\"}}, \"type\": \"parcoords\"}], \"pie\": [{\"automargin\": true, \"type\": \"pie\"}], \"scatter\": [{\"marker\": {\"colorbar\": {\"outlinewidth\": 0, \"ticks\": \"\"}}, \"type\": \"scatter\"}], \"scatter3d\": [{\"line\": {\"colorbar\": {\"outlinewidth\": 0, \"ticks\": \"\"}}, \"marker\": {\"colorbar\": {\"outlinewidth\": 0, \"ticks\": \"\"}}, \"type\": \"scatter3d\"}], \"scattercarpet\": [{\"marker\": {\"colorbar\": {\"outlinewidth\": 0, \"ticks\": \"\"}}, \"type\": \"scattercarpet\"}], \"scattergeo\": [{\"marker\": {\"colorbar\": {\"outlinewidth\": 0, \"ticks\": \"\"}}, \"type\": \"scattergeo\"}], \"scattergl\": [{\"marker\": {\"colorbar\": {\"outlinewidth\": 0, \"ticks\": \"\"}}, \"type\": \"scattergl\"}], \"scattermapbox\": [{\"marker\": {\"colorbar\": {\"outlinewidth\": 0, \"ticks\": \"\"}}, \"type\": \"scattermapbox\"}], \"scatterpolar\": [{\"marker\": {\"colorbar\": {\"outlinewidth\": 0, \"ticks\": \"\"}}, \"type\": \"scatterpolar\"}], \"scatterpolargl\": [{\"marker\": {\"colorbar\": {\"outlinewidth\": 0, \"ticks\": \"\"}}, \"type\": \"scatterpolargl\"}], \"scatterternary\": [{\"marker\": {\"colorbar\": {\"outlinewidth\": 0, \"ticks\": \"\"}}, \"type\": \"scatterternary\"}], \"surface\": [{\"colorbar\": {\"outlinewidth\": 0, \"ticks\": \"\"}, \"colorscale\": [[0.0, \"#0d0887\"], [0.1111111111111111, \"#46039f\"], [0.2222222222222222, \"#7201a8\"], [0.3333333333333333, \"#9c179e\"], [0.4444444444444444, \"#bd3786\"], [0.5555555555555556, \"#d8576b\"], [0.6666666666666666, \"#ed7953\"], [0.7777777777777778, \"#fb9f3a\"], [0.8888888888888888, \"#fdca26\"], [1.0, \"#f0f921\"]], \"type\": \"surface\"}], \"table\": [{\"cells\": {\"fill\": {\"color\": \"#EBF0F8\"}, \"line\": {\"color\": \"white\"}}, \"header\": {\"fill\": {\"color\": \"#C8D4E3\"}, \"line\": {\"color\": \"white\"}}, \"type\": \"table\"}]}, \"layout\": {\"annotationdefaults\": {\"arrowcolor\": \"#2a3f5f\", \"arrowhead\": 0, \"arrowwidth\": 1}, \"autotypenumbers\": \"strict\", \"coloraxis\": {\"colorbar\": {\"outlinewidth\": 0, \"ticks\": \"\"}}, \"colorscale\": {\"diverging\": [[0, \"#8e0152\"], [0.1, \"#c51b7d\"], [0.2, \"#de77ae\"], [0.3, \"#f1b6da\"], [0.4, \"#fde0ef\"], [0.5, \"#f7f7f7\"], [0.6, \"#e6f5d0\"], [0.7, \"#b8e186\"], [0.8, \"#7fbc41\"], [0.9, \"#4d9221\"], [1, \"#276419\"]], \"sequential\": [[0.0, \"#0d0887\"], [0.1111111111111111, \"#46039f\"], [0.2222222222222222, \"#7201a8\"], [0.3333333333333333, \"#9c179e\"], [0.4444444444444444, \"#bd3786\"], [0.5555555555555556, \"#d8576b\"], [0.6666666666666666, \"#ed7953\"], [0.7777777777777778, \"#fb9f3a\"], [0.8888888888888888, \"#fdca26\"], [1.0, \"#f0f921\"]], \"sequentialminus\": [[0.0, \"#0d0887\"], [0.1111111111111111, \"#46039f\"], [0.2222222222222222, \"#7201a8\"], [0.3333333333333333, \"#9c179e\"], [0.4444444444444444, \"#bd3786\"], [0.5555555555555556, \"#d8576b\"], [0.6666666666666666, \"#ed7953\"], [0.7777777777777778, \"#fb9f3a\"], [0.8888888888888888, \"#fdca26\"], [1.0, \"#f0f921\"]]}, \"colorway\": [\"#636efa\", \"#EF553B\", \"#00cc96\", \"#ab63fa\", \"#FFA15A\", \"#19d3f3\", \"#FF6692\", \"#B6E880\", \"#FF97FF\", \"#FECB52\"], \"font\": {\"color\": \"#2a3f5f\"}, \"geo\": {\"bgcolor\": \"white\", \"lakecolor\": \"white\", \"landcolor\": \"#E5ECF6\", \"showlakes\": true, \"showland\": true, \"subunitcolor\": \"white\"}, \"hoverlabel\": {\"align\": \"left\"}, \"hovermode\": \"closest\", \"mapbox\": {\"style\": \"light\"}, \"paper_bgcolor\": \"white\", \"plot_bgcolor\": \"#E5ECF6\", \"polar\": {\"angularaxis\": {\"gridcolor\": \"white\", \"linecolor\": \"white\", \"ticks\": \"\"}, \"bgcolor\": \"#E5ECF6\", \"radialaxis\": {\"gridcolor\": \"white\", \"linecolor\": \"white\", \"ticks\": \"\"}}, \"scene\": {\"xaxis\": {\"backgroundcolor\": \"#E5ECF6\", \"gridcolor\": \"white\", \"gridwidth\": 2, \"linecolor\": \"white\", \"showbackground\": true, \"ticks\": \"\", \"zerolinecolor\": \"white\"}, \"yaxis\": {\"backgroundcolor\": \"#E5ECF6\", \"gridcolor\": \"white\", \"gridwidth\": 2, \"linecolor\": \"white\", \"showbackground\": true, \"ticks\": \"\", \"zerolinecolor\": \"white\"}, \"zaxis\": {\"backgroundcolor\": \"#E5ECF6\", \"gridcolor\": \"white\", \"gridwidth\": 2, \"linecolor\": \"white\", \"showbackground\": true, \"ticks\": \"\", \"zerolinecolor\": \"white\"}}, \"shapedefaults\": {\"line\": {\"color\": \"#2a3f5f\"}}, \"ternary\": {\"aaxis\": {\"gridcolor\": \"white\", \"linecolor\": \"white\", \"ticks\": \"\"}, \"baxis\": {\"gridcolor\": \"white\", \"linecolor\": \"white\", \"ticks\": \"\"}, \"bgcolor\": \"#E5ECF6\", \"caxis\": {\"gridcolor\": \"white\", \"linecolor\": \"white\", \"ticks\": \"\"}}, \"title\": {\"x\": 0.05}, \"xaxis\": {\"automargin\": true, \"gridcolor\": \"white\", \"linecolor\": \"white\", \"ticks\": \"\", \"title\": {\"standoff\": 15}, \"zerolinecolor\": \"white\", \"zerolinewidth\": 2}, \"yaxis\": {\"automargin\": true, \"gridcolor\": \"white\", \"linecolor\": \"white\", \"ticks\": \"\", \"title\": {\"standoff\": 15}, \"zerolinecolor\": \"white\", \"zerolinewidth\": 2}}}, \"title\": {\"text\": \"Changes to 2020 Student Summer Plans\", \"x\": 0.5, \"xanchor\": \"center\", \"y\": 0.9, \"yanchor\": \"top\"}, \"xaxis\": {\"title\": {\"text\": \"Class Year\"}}, \"yaxis\": {\"title\": {\"text\": \"Percentage of Student Respondents\"}}},                        {\"responsive\": true}                    ).then(function(){\n                            \nvar gd = document.getElementById('20f156d0-f9bd-42d1-9f38-9af47e6b21a7');\nvar x = new MutationObserver(function (mutations, observer) {{\n        var display = window.getComputedStyle(gd).display;\n        if (!display || display === 'none') {{\n            console.log([gd, 'removed!']);\n            Plotly.purge(gd);\n            observer.disconnect();\n        }}\n}});\n\n// Listen for the removal of the full notebook cells\nvar notebookContainer = gd.closest('#notebook-container');\nif (notebookContainer) {{\n    x.observe(notebookContainer, {childList: true});\n}}\n\n// Listen for the clearing of the current output cell\nvar outputEl = gd.closest('.output');\nif (outputEl) {{\n    x.observe(outputEl, {childList: true});\n}}\n\n                        })                };                            </script>        </div>\n</body>\n</html>"
          },
          "metadata": {},
          "output_type": "display_data"
        }
      ]
    },
    {
      "cell_type": "code",
      "metadata": {
        "tags": [],
        "cell_id": "00006-1876102d-0fe2-46a9-aeb4-29629faabb9d",
        "deepnote_to_be_reexecuted": false,
        "source_hash": "d40f6988",
        "execution_millis": 201,
        "execution_start": 1617835541333,
        "deepnote_cell_type": "code"
      },
      "source": "con_col = ['Q7','Q5']\ndf_concen = pd.read_csv(\"summer_jobs.csv\", usecols=con_col)\ndf_concen['Q7'][1:].value_counts(ascending=True)",
      "execution_count": 26,
      "outputs": [
        {
          "output_type": "execute_result",
          "execution_count": 26,
          "data": {
            "text/plain": "History and Science                              1\nComputer Science,Philosophy                      1\nHistory of Art and Architecture                  1\nEconomics,Government                             1\nChemical and Physical Biology,Statistics         1\nComputer Science,Statistics                      1\nHistory                                          1\nHistory and Science,Neuroscience                 1\nAstrophysics,Earth and Planetary Science         1\nAstrophysics                                     1\nEnglish,Music                                    1\nGovernment,Statistics                            1\nHuman Evolutionary Biology                       1\nMusic                                            1\nComparative Literature                           1\nEconomics,Government,Psychology,Undecided        1\nEconomics,Neuroscience                           1\nHuman Developmental and Regenerative Biology     1\nClassics,History                                 1\nComputer Science,Economics                       1\nEast Asian Studies,Government                    1\nTheater, Dance, and Media                        1\nHistory,Philosophy                               1\nEnglish,Integrative Biology                      1\nSociology,Statistics                             1\nBiomedical Engineering                           1\nMusic,Neuroscience                               1\nMathematics,Physics                              1\nClassics                                         1\nEnvironmental Science and Engineering            1\nSpecial Concentration                            1\nPhilosophy                                       2\nSociology                                        2\nHistory and Literature                           2\nChemical and Physical Biology                    2\nArt, Film, and Visual Studies                    2\nComputer Science,Physics                         2\nEnvironmental Science and Public Policy          2\nEnglish                                          3\nChemistry                                        3\nMolecular and Cellular Biology                   3\nNeuroscience                                     5\nIntegrative Biology                              5\nEconomics                                        5\nStatistics                                       5\nMathematics                                      5\nPhysics                                          5\nSocial Studies                                   7\nUndecided                                        7\nApplied Math                                     9\nPsychology                                      12\nGovernment                                      12\nComputer Science                                18\nName: Q7, dtype: int64"
          },
          "metadata": {}
        }
      ]
    },
    {
      "cell_type": "code",
      "metadata": {
        "tags": [],
        "cell_id": "00005-0ef2eee9-e065-40f3-9cc3-0920c99efddd",
        "deepnote_to_be_reexecuted": false,
        "source_hash": "8881495d",
        "execution_millis": 2,
        "execution_start": 1617835542167,
        "deepnote_cell_type": "code"
      },
      "source": "engin_n_applied = [\n    \"Applied Math\",\n    \"Biomedical Engineering\",\n    \"Computer Science\",\n    \"Electrical Engineering\",\n    \"Engineering Sciences\",\n    \"Environmental Science and Engineering\",\n    \"Mechanical Engineering\"]\n\nsciences = [\n    \"Astrophysics\",\n    \"Chemical and Physical Biology\",\n    \"Chemistry\",\n    \"Chemistry and Physics\",\n    \"Earth and Planetary Sciences\",\n    \"Environmental Science and Public Policy\",\n    \"Human Developmental and Regenerative Biology\",\n    \"Human Evolutionary Biology\",\n    \"Integrative Biology\",\n    \"Mathematics\",\n    \"Molecular and Cellular Biology\",\n    \"Neuroscience\",\n    \"Physics\",\n    \"Statistics\"]\n\nsocial_sciences = [\n    \"African and African American Studies\",\n    \"Anthropology\",\n    \"Economics\",\n    \"Government\",\n    \"History\",\n    \"History and Science\",\n    \"Psychology\",\n    \"Social Studies\",\n    \"Sociology\",\n    \"Studies of Women, Gender, and Sexuality\"]\n\narts_n_hum = [\n    \"Art, Film, and Visual Studies\",\n    \"Classics\",\n    \"Comparative Literature\",\n    \"East Asian Studies\",\n    \"English\",\n    \"Folklore and Mythology\",\n    \"Germanic Languages and Literatures\",\n    \"History and Literature\",\n    \"History of Art and Architecture\",\n    \"Linguistics\",\n    \"Music\",\n    \"Near Eastern Languages and Civilizations\",\n    \"Philosophy\",\n    \"Comparative Study of Religion\",\n    \"Romance Languages and Literatures\",\n    \"Slavic Languages and Literatures\",\n    \"South Asian Studies\",\n    \"Theater, Dance, and Media\"]",
      "execution_count": 27,
      "outputs": []
    },
    {
      "cell_type": "code",
      "metadata": {
        "tags": [],
        "cell_id": "00008-7d6c5059-14a0-4606-89ce-72f9af8e3f52",
        "deepnote_to_be_reexecuted": false,
        "source_hash": "8a6204e1",
        "execution_millis": 11,
        "execution_start": 1617835543370,
        "deepnote_cell_type": "code"
      },
      "source": "df_concen.head()",
      "execution_count": 28,
      "outputs": [
        {
          "output_type": "execute_result",
          "execution_count": 28,
          "data": {
            "application/vnd.deepnote.dataframe.v2+json": {
              "row_count": 5,
              "column_count": 2,
              "columns": [
                {
                  "name": "Q7",
                  "dtype": "object",
                  "stats": {
                    "unique_count": 5,
                    "nan_count": 0,
                    "categories": [
                      {
                        "name": "What is your concentration? Select all that apply.",
                        "count": 1
                      },
                      {
                        "name": "Integrative Biology",
                        "count": 1
                      },
                      {
                        "name": "3 others",
                        "count": 3
                      }
                    ]
                  }
                },
                {
                  "name": "Q5",
                  "dtype": "object",
                  "stats": {
                    "unique_count": 2,
                    "nan_count": 0,
                    "categories": [
                      {
                        "name": "Yes",
                        "count": 4
                      },
                      {
                        "name": "Did your Summer 2020 plans change due to the pandemic?",
                        "count": 1
                      }
                    ]
                  }
                },
                {
                  "name": "_deepnote_index_column",
                  "dtype": "int64"
                }
              ],
              "rows_top": [
                {
                  "Q7": "What is your concentration? Select all that apply.",
                  "Q5": "Did your Summer 2020 plans change due to the pandemic?",
                  "_deepnote_index_column": 0
                },
                {
                  "Q7": "Integrative Biology",
                  "Q5": "Yes",
                  "_deepnote_index_column": 1
                },
                {
                  "Q7": "Undecided",
                  "Q5": "Yes",
                  "_deepnote_index_column": 2
                },
                {
                  "Q7": "Social Studies",
                  "Q5": "Yes",
                  "_deepnote_index_column": 3
                },
                {
                  "Q7": "Government",
                  "Q5": "Yes",
                  "_deepnote_index_column": 4
                }
              ],
              "rows_bottom": null
            },
            "text/plain": "                                                  Q7  \\\n0  What is your concentration? Select all that ap...   \n1                                Integrative Biology   \n2                                          Undecided   \n3                                     Social Studies   \n4                                         Government   \n\n                                                  Q5  \n0  Did your Summer 2020 plans change due to the p...  \n1                                                Yes  \n2                                                Yes  \n3                                                Yes  \n4                                                Yes  ",
            "text/html": "<div>\n<style scoped>\n    .dataframe tbody tr th:only-of-type {\n        vertical-align: middle;\n    }\n\n    .dataframe tbody tr th {\n        vertical-align: top;\n    }\n\n    .dataframe thead th {\n        text-align: right;\n    }\n</style>\n<table border=\"1\" class=\"dataframe\">\n  <thead>\n    <tr style=\"text-align: right;\">\n      <th></th>\n      <th>Q7</th>\n      <th>Q5</th>\n    </tr>\n  </thead>\n  <tbody>\n    <tr>\n      <th>0</th>\n      <td>What is your concentration? Select all that ap...</td>\n      <td>Did your Summer 2020 plans change due to the p...</td>\n    </tr>\n    <tr>\n      <th>1</th>\n      <td>Integrative Biology</td>\n      <td>Yes</td>\n    </tr>\n    <tr>\n      <th>2</th>\n      <td>Undecided</td>\n      <td>Yes</td>\n    </tr>\n    <tr>\n      <th>3</th>\n      <td>Social Studies</td>\n      <td>Yes</td>\n    </tr>\n    <tr>\n      <th>4</th>\n      <td>Government</td>\n      <td>Yes</td>\n    </tr>\n  </tbody>\n</table>\n</div>"
          },
          "metadata": {}
        }
      ]
    },
    {
      "cell_type": "code",
      "metadata": {
        "tags": [],
        "cell_id": "00009-6cd56cda-7f43-447b-a16b-95eb7e7a2236",
        "deepnote_to_be_reexecuted": false,
        "source_hash": "ad37f819",
        "execution_millis": 22,
        "execution_start": 1617835544815,
        "deepnote_cell_type": "code"
      },
      "source": "# Will optimize for efficiency later\nlst = df_concen[1:]\n\ndef group_con (concentration):\n    yes = 0\n    no = 0\n    for i in range (1, length+1):\n        check = lst['Q7'][i]\n        if 'Undecided' in lst['Q7'][i] or 'Special Concentration' in lst['Q7'][i]:\n            check = 'Undecided'\n        # students who listed 2 concentrations will contribute up \n        # to one point based on how many of their concentrations fit into a concentration category\n        elif lst['Q7'][i].count(',') == 1:\n            joint = lst['Q7'][i].split(',')\n            if (joint[0] in concentration) and (joint[1] in concentration):\n                if lst['Q5'][i] == 'Yes':\n                    yes = yes + 1\n                else:\n                    no = no + 1\n            elif (joint[0] in concentration) or (joint[1] in concentration):\n                if lst['Q5'][i] == 'Yes':\n                    yes = yes + 0.5\n                else:\n                    no = no + 0.5\n        if check in concentration:\n            if lst['Q5'][i] == 'Yes':\n                yes = yes +1\n            else:\n                no = no +1\n    return [yes, no]\n\nprint(\"Engineering & Applied Sciences| Yes: \" + str(group_con(engin_n_applied)[0]) + \" | No: \" + str(group_con(engin_n_applied)[1]))\nprint(\"Sciences| Yes: \" + str(group_con(sciences)[0]) + \" | No: \" + str(group_con(sciences)[1]))\nprint(\"Social Sciences| Yes: \" + str(group_con(social_sciences)[0]) + \" | No: \" + str(group_con(social_sciences)[1]))\nprint(\"Arts & Humanities| Yes: \" + str(group_con(arts_n_hum)[0]) + \" | No: \" + str(group_con(arts_n_hum)[1]))\nprint(\"Undecided/ Other| Yes: \" + str(group_con(\"Undecided\")[0]) + \" | No: \" + str(group_con(\"Undecided\")[1]))",
      "execution_count": 29,
      "outputs": [
        {
          "name": "stdout",
          "text": "Engineering & Applied Sciences| Yes: 19.5 | No: 12.0\nSciences| Yes: 32.0 | No: 13.0\nSocial Sciences| Yes: 36.0 | No: 9.0\nArts & Humanities| Yes: 14.0 | No: 4.0\nUndecided/ Other| Yes: 5 | No: 4\n",
          "output_type": "stream"
        }
      ]
    },
    {
      "cell_type": "code",
      "metadata": {
        "tags": [],
        "cell_id": "00011-c536b564-f4f6-4610-8f33-82429696698e",
        "deepnote_to_be_reexecuted": false,
        "source_hash": "ba3f763b",
        "execution_millis": 16,
        "execution_start": 1617835545606,
        "deepnote_cell_type": "code"
      },
      "source": "X = ['Undecided/ Other', 'Arts & Humanities', 'Social Studies', 'Sciences', 'Engineering &\\nApplied Sciences']\nY1 = [55.6, 77.8, 80, 71.1, 61.9]\nY2 = [44.4, 22.8, 20, 28.9, 38.1]\n\nfig = go.Figure()\nfig.add_trace(go.Bar(\n    x=Y1, \n    y=X, \n    name=\"Yes\",\n    marker_color=primary_colors[0], orientation='h'\n))\n\nfig.add_trace(go.Bar(x=Y2, y=X, name=\"No\", marker_color=primary_colors[3],  orientation='h'))\n\nfig.update_layout(\n    barmode='stack',\n    title= {'text': \"Changes to 2020 Student Summer Plans\",\n            'xanchor': 'center',\n            'yanchor': 'top'},\n    xaxis_title=\"Percentage of Student Respondents\",\n    yaxis_title=\"Concentration Types\",\n    legend= {'title':{'text':'Response'}},\n    template = theme_hodp\n)\n\nfig.show()",
      "execution_count": 30,
      "outputs": [
        {
          "data": {
            "text/html": "<html>\n<head><meta charset=\"utf-8\" /></head>\n<body>\n    <div>            <script src=\"https://cdnjs.cloudflare.com/ajax/libs/mathjax/2.7.5/MathJax.js?config=TeX-AMS-MML_SVG\"></script><script type=\"text/javascript\">if (window.MathJax) {MathJax.Hub.Config({SVG: {font: \"STIX-Web\"}});}</script>                <script type=\"text/javascript\">window.PlotlyConfig = {MathJaxConfig: 'local'};</script>\n        <script src=\"https://cdn.plot.ly/plotly-latest.min.js\"></script>                <div id=\"f4648273-c7b0-4ad9-8409-8a40ee53bbe2\" class=\"plotly-graph-div\" style=\"height:525px; width:100%;\"></div>            <script type=\"text/javascript\">                                    window.PLOTLYENV=window.PLOTLYENV || {};                                    if (document.getElementById(\"f4648273-c7b0-4ad9-8409-8a40ee53bbe2\")) {                    Plotly.newPlot(                        \"f4648273-c7b0-4ad9-8409-8a40ee53bbe2\",                        [{\"marker\": {\"color\": \"#C63F3F\"}, \"name\": \"Yes\", \"orientation\": \"h\", \"type\": \"bar\", \"x\": [55.6, 77.8, 80, 71.1, 61.9], \"y\": [\"Undecided/ Other\", \"Arts & Humanities\", \"Social Studies\", \"Sciences\", \"Engineering &\\nApplied Sciences\"]}, {\"marker\": {\"color\": \"#455574\"}, \"name\": \"No\", \"orientation\": \"h\", \"type\": \"bar\", \"x\": [44.4, 22.8, 20, 28.9, 38.1], \"y\": [\"Undecided/ Other\", \"Arts & Humanities\", \"Social Studies\", \"Sciences\", \"Engineering &\\nApplied Sciences\"]}],                        {\"barmode\": \"stack\", \"legend\": {\"title\": {\"text\": \"Response\"}}, \"template\": {\"layout\": {\"coloraxis\": {\"autocolorscale\": true, \"cauto\": true, \"colorbar\": {\"tickfont\": {\"family\": \"Helvetica\", \"size\": 14}, \"title\": {\"font\": {\"family\": \"Helvetica\", \"size\": 18}}}}, \"colorscale\": {\"diverging\": [[0.0, \"#251616\"], [0.25, \"#760000\"], [0.5, \"#C63F3F\"], [0.75, \"#E28073\"], [1.0, \"#F1D3CF\"]]}, \"font\": {\"color\": \"#717171\", \"family\": \"Helvetica\", \"size\": 18}, \"legend\": {\"bgcolor\": \"rgba(0,0,0,0)\", \"font\": {\"family\": \"Helvetica\", \"size\": 14}, \"title\": {\"font\": {\"color\": \"#251616\", \"family\": \"Helvetica\", \"size\": 18}}, \"yanchor\": \"bottom\"}, \"title\": {\"font\": {\"color\": \"#251616\", \"family\": \"Helvetica\", \"size\": 24}, \"pad\": {\"b\": 0, \"l\": 0, \"r\": 0, \"t\": 100}}, \"xaxis\": {\"automargin\": true, \"showline\": true, \"showtickprefix\": \"last\", \"showticksuffix\": \"all\", \"tickfont\": {\"family\": \"Helvetica\", \"size\": 14}, \"ticks\": \"outside\", \"title\": {\"font\": {\"family\": \"Helvetica\", \"size\": 18}, \"standoff\": 20}}, \"yaxis\": {\"automargin\": true, \"showline\": true, \"showtickprefix\": \"last\", \"showticksuffix\": \"all\", \"tickfont\": {\"family\": \"Helvetica\", \"size\": 14}, \"ticks\": \"outside\", \"title\": {\"font\": {\"family\": \"Helvetica\", \"size\": 18}, \"standoff\": 20}}}}, \"title\": {\"text\": \"Changes to 2020 Student Summer Plans\", \"xanchor\": \"center\", \"yanchor\": \"top\"}, \"xaxis\": {\"title\": {\"text\": \"Percentage of Student Respondents\"}}, \"yaxis\": {\"title\": {\"text\": \"Concentration Types\"}}},                        {\"responsive\": true}                    ).then(function(){\n                            \nvar gd = document.getElementById('f4648273-c7b0-4ad9-8409-8a40ee53bbe2');\nvar x = new MutationObserver(function (mutations, observer) {{\n        var display = window.getComputedStyle(gd).display;\n        if (!display || display === 'none') {{\n            console.log([gd, 'removed!']);\n            Plotly.purge(gd);\n            observer.disconnect();\n        }}\n}});\n\n// Listen for the removal of the full notebook cells\nvar notebookContainer = gd.closest('#notebook-container');\nif (notebookContainer) {{\n    x.observe(notebookContainer, {childList: true});\n}}\n\n// Listen for the clearing of the current output cell\nvar outputEl = gd.closest('.output');\nif (outputEl) {{\n    x.observe(outputEl, {childList: true});\n}}\n\n                        })                };                            </script>        </div>\n</body>\n</html>"
          },
          "metadata": {},
          "output_type": "display_data"
        }
      ]
    },
    {
      "cell_type": "code",
      "metadata": {
        "tags": [],
        "cell_id": "00006-b6f1123c-4f9e-4849-af87-6e821d901c97",
        "deepnote_to_be_reexecuted": false,
        "source_hash": "5f492373",
        "execution_millis": 24,
        "execution_start": 1617835546787,
        "deepnote_cell_type": "code"
      },
      "source": "# Comparing positions pre-covid vs post-covid\nplan_col_list = [\"Q1\", \"Q1_9_TEXT\",\"Q4\", \"Q4_8_TEXT\"]\nplan_col_list\n\ndf_plan = pd.read_csv(\"summer_jobs.csv\", usecols=plan_col_list)\ndf_plan.head()",
      "execution_count": 31,
      "outputs": [
        {
          "output_type": "execute_result",
          "execution_count": 31,
          "data": {
            "application/vnd.deepnote.dataframe.v2+json": {
              "row_count": 5,
              "column_count": 4,
              "columns": [
                {
                  "name": "Q1",
                  "dtype": "object",
                  "stats": {
                    "unique_count": 4,
                    "nan_count": 0,
                    "categories": [
                      {
                        "name": "Research",
                        "count": 2
                      },
                      {
                        "name": "What are your current plans for Summer 2021? - Selected Choice",
                        "count": 1
                      },
                      {
                        "name": "2 others",
                        "count": 2
                      }
                    ]
                  }
                },
                {
                  "name": "Q1_9_TEXT",
                  "dtype": "object",
                  "stats": {
                    "unique_count": 2,
                    "nan_count": 3,
                    "categories": [
                      {
                        "name": "What are your current plans for Summer 2021? - Other - Text",
                        "count": 1
                      },
                      {
                        "name": "Summer School",
                        "count": 1
                      },
                      {
                        "name": "Missing",
                        "count": 3
                      }
                    ]
                  }
                },
                {
                  "name": "Q4",
                  "dtype": "object",
                  "stats": {
                    "unique_count": 4,
                    "nan_count": 0,
                    "categories": [
                      {
                        "name": "No Plans",
                        "count": 2
                      },
                      {
                        "name": "What did you do during Summer 2020? - Selected Choice",
                        "count": 1
                      },
                      {
                        "name": "2 others",
                        "count": 2
                      }
                    ]
                  }
                },
                {
                  "name": "Q4_8_TEXT",
                  "dtype": "object",
                  "stats": {
                    "unique_count": 1,
                    "nan_count": 4,
                    "categories": [
                      {
                        "name": "What did you do during Summer 2020? - Other - Text",
                        "count": 1
                      },
                      {
                        "name": "Missing",
                        "count": 4
                      }
                    ]
                  }
                },
                {
                  "name": "_deepnote_index_column",
                  "dtype": "int64"
                }
              ],
              "rows_top": [
                {
                  "Q1": "What are your current plans for Summer 2021? - Selected Choice",
                  "Q1_9_TEXT": "What are your current plans for Summer 2021? - Other - Text",
                  "Q4": "What did you do during Summer 2020? - Selected Choice",
                  "Q4_8_TEXT": "What did you do during Summer 2020? - Other - Text",
                  "_deepnote_index_column": 0
                },
                {
                  "Q1": "Research",
                  "Q1_9_TEXT": "nan",
                  "Q4": "Part-Time Internship",
                  "Q4_8_TEXT": "nan",
                  "_deepnote_index_column": 1
                },
                {
                  "Q1": "Research",
                  "Q1_9_TEXT": "nan",
                  "Q4": "No Plans",
                  "Q4_8_TEXT": "nan",
                  "_deepnote_index_column": 2
                },
                {
                  "Q1": "Full-Time Internship",
                  "Q1_9_TEXT": "nan",
                  "Q4": "Full-Time Internship",
                  "Q4_8_TEXT": "nan",
                  "_deepnote_index_column": 3
                },
                {
                  "Q1": "Other",
                  "Q1_9_TEXT": "Summer School",
                  "Q4": "No Plans",
                  "Q4_8_TEXT": "nan",
                  "_deepnote_index_column": 4
                }
              ],
              "rows_bottom": null
            },
            "text/plain": "                                                  Q1  \\\n0  What are your current plans for Summer 2021? -...   \n1                                           Research   \n2                                           Research   \n3                               Full-Time Internship   \n4                                              Other   \n\n                                           Q1_9_TEXT  \\\n0  What are your current plans for Summer 2021? -...   \n1                                                NaN   \n2                                                NaN   \n3                                                NaN   \n4                                      Summer School   \n\n                                                  Q4  \\\n0  What did you do during Summer 2020? - Selected...   \n1                               Part-Time Internship   \n2                                           No Plans   \n3                               Full-Time Internship   \n4                                           No Plans   \n\n                                           Q4_8_TEXT  \n0  What did you do during Summer 2020? - Other - ...  \n1                                                NaN  \n2                                                NaN  \n3                                                NaN  \n4                                                NaN  ",
            "text/html": "<div>\n<style scoped>\n    .dataframe tbody tr th:only-of-type {\n        vertical-align: middle;\n    }\n\n    .dataframe tbody tr th {\n        vertical-align: top;\n    }\n\n    .dataframe thead th {\n        text-align: right;\n    }\n</style>\n<table border=\"1\" class=\"dataframe\">\n  <thead>\n    <tr style=\"text-align: right;\">\n      <th></th>\n      <th>Q1</th>\n      <th>Q1_9_TEXT</th>\n      <th>Q4</th>\n      <th>Q4_8_TEXT</th>\n    </tr>\n  </thead>\n  <tbody>\n    <tr>\n      <th>0</th>\n      <td>What are your current plans for Summer 2021? -...</td>\n      <td>What are your current plans for Summer 2021? -...</td>\n      <td>What did you do during Summer 2020? - Selected...</td>\n      <td>What did you do during Summer 2020? - Other - ...</td>\n    </tr>\n    <tr>\n      <th>1</th>\n      <td>Research</td>\n      <td>NaN</td>\n      <td>Part-Time Internship</td>\n      <td>NaN</td>\n    </tr>\n    <tr>\n      <th>2</th>\n      <td>Research</td>\n      <td>NaN</td>\n      <td>No Plans</td>\n      <td>NaN</td>\n    </tr>\n    <tr>\n      <th>3</th>\n      <td>Full-Time Internship</td>\n      <td>NaN</td>\n      <td>Full-Time Internship</td>\n      <td>NaN</td>\n    </tr>\n    <tr>\n      <th>4</th>\n      <td>Other</td>\n      <td>Summer School</td>\n      <td>No Plans</td>\n      <td>NaN</td>\n    </tr>\n  </tbody>\n</table>\n</div>"
          },
          "metadata": {}
        }
      ]
    },
    {
      "cell_type": "code",
      "metadata": {
        "tags": [],
        "cell_id": "00007-d19534d7-53c0-4f40-9c8b-6c7fea0a70e1",
        "deepnote_to_be_reexecuted": false,
        "source_hash": "b635aaa1",
        "execution_millis": 13,
        "execution_start": 1617835548171,
        "deepnote_cell_type": "code"
      },
      "source": "# unique values in \"other\" cols\ndf_plan[\"Q1_9_TEXT\"].unique()",
      "execution_count": 32,
      "outputs": [
        {
          "output_type": "execute_result",
          "execution_count": 32,
          "data": {
            "text/plain": "array(['What are your current plans for Summer 2021? - Other - Text', nan,\n       'Summer School', 'Part-time Internship and part-time job',\n       'Travel', 'Summer class/teaching program',\n       'Harvard Summer School Classes', 'classes',\n       'Part-time job and part-time internship', 'Freelance Job',\n       'Harvard summer school', 'summer school',\n       'summer classes, training', 'Summer classes', 'summer classes'],\n      dtype=object)"
          },
          "metadata": {}
        }
      ]
    },
    {
      "cell_type": "markdown",
      "source": "From the above results, we can observe that the primary plans that students have under the \"Other\" section are summer school, part-time internship/job (including freelance) and travel.",
      "metadata": {
        "tags": [],
        "cell_id": "00008-10810bde-9820-41e5-8223-d1c9bfe71a08",
        "deepnote_cell_type": "markdown"
      }
    },
    {
      "cell_type": "code",
      "metadata": {
        "tags": [],
        "cell_id": "00010-80677f07-2db9-46be-b820-cdba0f641139",
        "deepnote_to_be_reexecuted": false,
        "source_hash": "d5519d51",
        "execution_millis": 19,
        "execution_start": 1617835550309,
        "deepnote_cell_type": "code"
      },
      "source": "def label_other_2021 (df_plan):\n   if (df_plan['Q1_9_TEXT'] == \"Summer School\") | (df_plan['Q1_9_TEXT'] == \"Summer class/teaching program\") | (df_plan['Q1_9_TEXT'] == \"Harvard Summer School Classes\") | (df_plan['Q1_9_TEXT'] == \"classes\") | (df_plan['Q1_9_TEXT'] == \"Harvard summer school\") | (df_plan['Q1_9_TEXT'] == \"summer school\")  | (df_plan['Q1_9_TEXT'] == \"summer classes\") | (df_plan['Q1_9_TEXT'] == \"Summer classes\") :\n      return 'Summer school'\n   if (df_plan['Q1_9_TEXT'] == \"Part-time Internship and part-time job\") | (df_plan['Q1_9_TEXT'] == \"Part-time job and part-time internship\") | (df_plan['Q1_9_TEXT'] == \"Freelance Job\"):\n      return 'Part-time Internship and part-time job'\n   if df_plan['Q1_9_TEXT'] == \"Travel\":\n      return 'Travel'\n\ndf_plan[\"label_other_2021\"] = df_plan.apply(lambda df_plan: label_other_2021(df_plan), axis=1)",
      "execution_count": 33,
      "outputs": []
    },
    {
      "cell_type": "code",
      "metadata": {
        "tags": [],
        "cell_id": "00016-86129177-efcd-4d00-bc22-00bd03d561a4",
        "deepnote_to_be_reexecuted": false,
        "source_hash": "97538a6b",
        "execution_millis": 90,
        "execution_start": 1617835551312,
        "deepnote_cell_type": "code"
      },
      "source": "df_plan[\"label_other_2021\"].unique()",
      "execution_count": 34,
      "outputs": [
        {
          "output_type": "execute_result",
          "execution_count": 34,
          "data": {
            "text/plain": "array([None, 'Summer school', 'Part-time Internship and part-time job',\n       'Travel'], dtype=object)"
          },
          "metadata": {}
        }
      ]
    },
    {
      "cell_type": "code",
      "metadata": {
        "tags": [],
        "cell_id": "00008-14184fb9-e1db-435e-87fa-a9cad426a658",
        "deepnote_to_be_reexecuted": false,
        "source_hash": "261c8aff",
        "execution_millis": 64,
        "execution_start": 1617835551901,
        "deepnote_cell_type": "code"
      },
      "source": "df_plan[\"Q4_8_TEXT\"].unique()",
      "execution_count": 35,
      "outputs": [
        {
          "output_type": "execute_result",
          "execution_count": 35,
          "data": {
            "text/plain": "array(['What did you do during Summer 2020? - Other - Text', nan,\n       'Part-time job and study for LSAT',\n       'short program, otherwise no plans', 'Summer School',\n       'Hackathon and online classes', 'Class', 'Summer class',\n       'Had a part-time internship on the side as well since I was working at a day camp. ',\n       'Research + part-time internship', 'Part Time Job + Classes',\n       'Classes', 'classes'], dtype=object)"
          },
          "metadata": {}
        }
      ]
    },
    {
      "cell_type": "markdown",
      "source": "For summer 2020 \"other\" plans, students had part-time job, summer school, no plan (or not specified short program), part-time internship and part-time job, part-time job + summer school.\n\n(we are treating summer school and online classes as the same category)",
      "metadata": {
        "tags": [],
        "cell_id": "00010-2e9dd64b-4f6d-4ffb-a55b-631d820c1038",
        "deepnote_cell_type": "markdown"
      }
    },
    {
      "cell_type": "markdown",
      "source": "",
      "metadata": {
        "tags": [],
        "cell_id": "00012-c810f2f3-d789-4ab0-8290-4ac20ddd2d9f",
        "deepnote_cell_type": "markdown"
      }
    },
    {
      "cell_type": "code",
      "metadata": {
        "tags": [],
        "cell_id": "00020-d1a47b82-e496-486f-a771-9b5f92d61616",
        "deepnote_to_be_reexecuted": false,
        "source_hash": "3e1fc6d",
        "execution_millis": 2,
        "execution_start": 1617835554039,
        "deepnote_cell_type": "code"
      },
      "source": "def label_other_2020 (df_plan):\n   if (df_plan['Q4_8_TEXT'] == \"Summer School\") | (df_plan['Q4_8_TEXT'] == \"Hackathon and online classes\") | (df_plan['Q4_8_TEXT'] == \"Summer class\") | (df_plan['Q4_8_TEXT'] == \"classes\") | (df_plan['Q4_8_TEXT'] == \"Classes\") | (df_plan['Q4_8_TEXT'] == \"Class\"):\n      return 'Summer school'\n   if (df_plan['Q4_8_TEXT'] == \"Part-time job and study for LSAT\") | (df_plan['Q4_8_TEXT'] == \"Had a part-time internship on the side as well since I was working at a day camp. \") | (df_plan['Q4_8_TEXT'] == \"Research + part-time internship\") | (df_plan['Q4_8_TEXT'] == \"short program, otherwise no plans\"):\n      return 'Part-time Internship and part-time job'\n   if df_plan['Q4_8_TEXT'] == \"Part Time Job + Classes\":\n      return 'Part-time job and summer school'\n\ndf_plan[\"label_other_2020\"] = df_plan.apply(lambda df_plan: label_other_2020(df_plan), axis=1)",
      "execution_count": 36,
      "outputs": []
    },
    {
      "cell_type": "code",
      "metadata": {
        "tags": [],
        "cell_id": "00021-cafb6242-fd21-4885-b973-a020a919200d",
        "deepnote_to_be_reexecuted": false,
        "source_hash": "e912a95e",
        "execution_millis": 13,
        "execution_start": 1617835554993,
        "deepnote_cell_type": "code"
      },
      "source": "df_plan['label_other_2020'].unique()",
      "execution_count": 37,
      "outputs": [
        {
          "output_type": "execute_result",
          "execution_count": 37,
          "data": {
            "text/plain": "array([None, 'Part-time Internship and part-time job', 'Summer school',\n       'Part-time job and summer school'], dtype=object)"
          },
          "metadata": {}
        }
      ]
    },
    {
      "cell_type": "code",
      "metadata": {
        "tags": [],
        "cell_id": "00022-676c4a58-9d3d-4ad4-8d86-c5c34cc9079e",
        "deepnote_to_be_reexecuted": false,
        "source_hash": "4705a8be",
        "execution_millis": 60,
        "execution_start": 1617835555564,
        "deepnote_cell_type": "code"
      },
      "source": "df_plan = df_plan[[\"Q1\", \"label_other_2021\", \"Q4\", \"label_other_2020\"]]\ndf_plan.head()",
      "execution_count": 38,
      "outputs": [
        {
          "output_type": "execute_result",
          "execution_count": 38,
          "data": {
            "application/vnd.deepnote.dataframe.v2+json": {
              "row_count": 5,
              "column_count": 4,
              "columns": [
                {
                  "name": "Q1",
                  "dtype": "object",
                  "stats": {
                    "unique_count": 4,
                    "nan_count": 0,
                    "categories": [
                      {
                        "name": "Research",
                        "count": 2
                      },
                      {
                        "name": "What are your current plans for Summer 2021? - Selected Choice",
                        "count": 1
                      },
                      {
                        "name": "2 others",
                        "count": 2
                      }
                    ]
                  }
                },
                {
                  "name": "label_other_2021",
                  "dtype": "object",
                  "stats": {
                    "unique_count": 1,
                    "nan_count": 4,
                    "categories": [
                      {
                        "name": "Summer school",
                        "count": 1
                      },
                      {
                        "name": "Missing",
                        "count": 4
                      }
                    ]
                  }
                },
                {
                  "name": "Q4",
                  "dtype": "object",
                  "stats": {
                    "unique_count": 4,
                    "nan_count": 0,
                    "categories": [
                      {
                        "name": "No Plans",
                        "count": 2
                      },
                      {
                        "name": "What did you do during Summer 2020? - Selected Choice",
                        "count": 1
                      },
                      {
                        "name": "2 others",
                        "count": 2
                      }
                    ]
                  }
                },
                {
                  "name": "label_other_2020",
                  "dtype": "object",
                  "stats": {
                    "unique_count": 0,
                    "nan_count": 5,
                    "categories": [
                      {
                        "name": "Missing",
                        "count": 5
                      }
                    ]
                  }
                },
                {
                  "name": "_deepnote_index_column",
                  "dtype": "int64"
                }
              ],
              "rows_top": [
                {
                  "Q1": "What are your current plans for Summer 2021? - Selected Choice",
                  "label_other_2021": "nan",
                  "Q4": "What did you do during Summer 2020? - Selected Choice",
                  "label_other_2020": "nan",
                  "_deepnote_index_column": 0
                },
                {
                  "Q1": "Research",
                  "label_other_2021": "nan",
                  "Q4": "Part-Time Internship",
                  "label_other_2020": "nan",
                  "_deepnote_index_column": 1
                },
                {
                  "Q1": "Research",
                  "label_other_2021": "nan",
                  "Q4": "No Plans",
                  "label_other_2020": "nan",
                  "_deepnote_index_column": 2
                },
                {
                  "Q1": "Full-Time Internship",
                  "label_other_2021": "nan",
                  "Q4": "Full-Time Internship",
                  "label_other_2020": "nan",
                  "_deepnote_index_column": 3
                },
                {
                  "Q1": "Other",
                  "label_other_2021": "Summer school",
                  "Q4": "No Plans",
                  "label_other_2020": "nan",
                  "_deepnote_index_column": 4
                }
              ],
              "rows_bottom": null
            },
            "text/plain": "                                                  Q1 label_other_2021  \\\n0  What are your current plans for Summer 2021? -...             None   \n1                                           Research             None   \n2                                           Research             None   \n3                               Full-Time Internship             None   \n4                                              Other    Summer school   \n\n                                                  Q4 label_other_2020  \n0  What did you do during Summer 2020? - Selected...             None  \n1                               Part-Time Internship             None  \n2                                           No Plans             None  \n3                               Full-Time Internship             None  \n4                                           No Plans             None  ",
            "text/html": "<div>\n<style scoped>\n    .dataframe tbody tr th:only-of-type {\n        vertical-align: middle;\n    }\n\n    .dataframe tbody tr th {\n        vertical-align: top;\n    }\n\n    .dataframe thead th {\n        text-align: right;\n    }\n</style>\n<table border=\"1\" class=\"dataframe\">\n  <thead>\n    <tr style=\"text-align: right;\">\n      <th></th>\n      <th>Q1</th>\n      <th>label_other_2021</th>\n      <th>Q4</th>\n      <th>label_other_2020</th>\n    </tr>\n  </thead>\n  <tbody>\n    <tr>\n      <th>0</th>\n      <td>What are your current plans for Summer 2021? -...</td>\n      <td>None</td>\n      <td>What did you do during Summer 2020? - Selected...</td>\n      <td>None</td>\n    </tr>\n    <tr>\n      <th>1</th>\n      <td>Research</td>\n      <td>None</td>\n      <td>Part-Time Internship</td>\n      <td>None</td>\n    </tr>\n    <tr>\n      <th>2</th>\n      <td>Research</td>\n      <td>None</td>\n      <td>No Plans</td>\n      <td>None</td>\n    </tr>\n    <tr>\n      <th>3</th>\n      <td>Full-Time Internship</td>\n      <td>None</td>\n      <td>Full-Time Internship</td>\n      <td>None</td>\n    </tr>\n    <tr>\n      <th>4</th>\n      <td>Other</td>\n      <td>Summer school</td>\n      <td>No Plans</td>\n      <td>None</td>\n    </tr>\n  </tbody>\n</table>\n</div>"
          },
          "metadata": {}
        }
      ]
    },
    {
      "cell_type": "code",
      "metadata": {
        "tags": [],
        "cell_id": "00023-7d197961-9fdf-4fd6-80e2-113805ccad36",
        "deepnote_to_be_reexecuted": false,
        "source_hash": "614b3d41",
        "execution_millis": 8,
        "execution_start": 1617835556839,
        "deepnote_cell_type": "code"
      },
      "source": "df_plan[\"Q1\"].value_counts()",
      "execution_count": 39,
      "outputs": [
        {
          "output_type": "execute_result",
          "execution_count": 39,
          "data": {
            "text/plain": "Full-Time Internship                                              63\nResearch                                                          38\nOther                                                             15\nSearching/Undecided                                               12\nFull-Time Job                                                     10\nNo Plans                                                           3\nPart-Time Internship                                               3\nVolunteering                                                       3\nPart-Time Job                                                      2\nWhat are your current plans for Summer 2021? - Selected Choice     1\nName: Q1, dtype: int64"
          },
          "metadata": {}
        }
      ]
    },
    {
      "cell_type": "markdown",
      "source": "We are combining the categories of part-time internship and part-time job to avoid lots of categories in the pie chart. ",
      "metadata": {
        "tags": [],
        "cell_id": "00024-df9180ad-1756-4059-b7b6-26cbc6b5d8cd",
        "deepnote_cell_type": "markdown"
      }
    },
    {
      "cell_type": "code",
      "metadata": {
        "tags": [],
        "cell_id": "00024-c500af46-d49e-4dc9-8d8b-1ab81c2b9635",
        "deepnote_to_be_reexecuted": false,
        "source_hash": "56f5254c",
        "execution_millis": 8,
        "execution_start": 1617835558491,
        "deepnote_cell_type": "code"
      },
      "source": "df_plan[\"Q1\"].replace(to_replace=[\"Full-Time Internship\", \"Full-Time Job\"], value='Full-time Internship or Job', inplace = True)\ndf_plan[\"Q1\"].replace(to_replace=[\"Part-Time Internship\", \"Part-Time Job\"], value='Part-time Internship or Job', inplace = True)\ndf_plan[\"Q1\"].value_counts()",
      "execution_count": 40,
      "outputs": [
        {
          "output_type": "execute_result",
          "execution_count": 40,
          "data": {
            "text/plain": "Full-time Internship or Job                                       73\nResearch                                                          38\nOther                                                             15\nSearching/Undecided                                               12\nPart-time Internship or Job                                        5\nNo Plans                                                           3\nVolunteering                                                       3\nWhat are your current plans for Summer 2021? - Selected Choice     1\nName: Q1, dtype: int64"
          },
          "metadata": {}
        }
      ]
    },
    {
      "cell_type": "code",
      "metadata": {
        "tags": [],
        "cell_id": "00025-327cc89f-7615-4e5c-89c3-071485a1f96e",
        "deepnote_to_be_reexecuted": false,
        "source_hash": "ccda2358",
        "execution_millis": 135,
        "execution_start": 1617835560071,
        "deepnote_cell_type": "code"
      },
      "source": "labels = [\"Full-Time Internship or Job\", \"Research\", \"Other\", \"Searching/Undecided\", \"Part-Time Internship or Job\", \"Volunteering\", \"No Plans\"]\nvalues = [73, 38, 15, 12, 5, 3, 3]\ncolors = ['#501818', '#C63F3F', '#D87C7C', '#F4B436', '#83BFCC', '#455574', '#E2DDDB']\n\n# initialize the figure\nfig = go.Figure()\n\n# add a trace\nfig.add_trace(go.Pie(\n   values=values, \n   labels=labels,\n   marker_colors=colors,\n))\n\n# update the layout\nfig.update_layout(\n   title={'text': \"Current plans for Summer 2021\",\n            'xanchor': 'center',\n            'yanchor': 'top' },\n   legend= {'title':{'text':'Legend Title'},\n            'xanchor': 'center',\n            'yanchor': 'top'},\n   template=theme_hodp\n)\n\n# display the figure\nfig.show()",
      "execution_count": 41,
      "outputs": [
        {
          "data": {
            "text/html": "<html>\n<head><meta charset=\"utf-8\" /></head>\n<body>\n    <div>            <script src=\"https://cdnjs.cloudflare.com/ajax/libs/mathjax/2.7.5/MathJax.js?config=TeX-AMS-MML_SVG\"></script><script type=\"text/javascript\">if (window.MathJax) {MathJax.Hub.Config({SVG: {font: \"STIX-Web\"}});}</script>                <script type=\"text/javascript\">window.PlotlyConfig = {MathJaxConfig: 'local'};</script>\n        <script src=\"https://cdn.plot.ly/plotly-latest.min.js\"></script>                <div id=\"934f2d15-2ac2-4869-89d6-47d47641a4f1\" class=\"plotly-graph-div\" style=\"height:525px; width:100%;\"></div>            <script type=\"text/javascript\">                                    window.PLOTLYENV=window.PLOTLYENV || {};                                    if (document.getElementById(\"934f2d15-2ac2-4869-89d6-47d47641a4f1\")) {                    Plotly.newPlot(                        \"934f2d15-2ac2-4869-89d6-47d47641a4f1\",                        [{\"labels\": [\"Full-Time Internship or Job\", \"Research\", \"Other\", \"Searching/Undecided\", \"Part-Time Internship or Job\", \"Volunteering\", \"No Plans\"], \"marker\": {\"colors\": [\"#501818\", \"#C63F3F\", \"#D87C7C\", \"#F4B436\", \"#83BFCC\", \"#455574\", \"#E2DDDB\"]}, \"type\": \"pie\", \"values\": [73, 38, 15, 12, 5, 3, 3]}],                        {\"legend\": {\"title\": {\"text\": \"Legend Title\"}, \"xanchor\": \"center\", \"yanchor\": \"top\"}, \"template\": {\"layout\": {\"coloraxis\": {\"autocolorscale\": true, \"cauto\": true, \"colorbar\": {\"tickfont\": {\"family\": \"Helvetica\", \"size\": 14}, \"title\": {\"font\": {\"family\": \"Helvetica\", \"size\": 18}}}}, \"colorscale\": {\"diverging\": [[0.0, \"#251616\"], [0.25, \"#760000\"], [0.5, \"#C63F3F\"], [0.75, \"#E28073\"], [1.0, \"#F1D3CF\"]]}, \"font\": {\"color\": \"#717171\", \"family\": \"Helvetica\", \"size\": 18}, \"legend\": {\"bgcolor\": \"rgba(0,0,0,0)\", \"font\": {\"family\": \"Helvetica\", \"size\": 14}, \"title\": {\"font\": {\"color\": \"#251616\", \"family\": \"Helvetica\", \"size\": 18}}, \"yanchor\": \"bottom\"}, \"title\": {\"font\": {\"color\": \"#251616\", \"family\": \"Helvetica\", \"size\": 24}, \"pad\": {\"b\": 0, \"l\": 0, \"r\": 0, \"t\": 100}}, \"xaxis\": {\"automargin\": true, \"showline\": true, \"showtickprefix\": \"last\", \"showticksuffix\": \"all\", \"tickfont\": {\"family\": \"Helvetica\", \"size\": 14}, \"ticks\": \"outside\", \"title\": {\"font\": {\"family\": \"Helvetica\", \"size\": 18}, \"standoff\": 20}}, \"yaxis\": {\"automargin\": true, \"showline\": true, \"showtickprefix\": \"last\", \"showticksuffix\": \"all\", \"tickfont\": {\"family\": \"Helvetica\", \"size\": 14}, \"ticks\": \"outside\", \"title\": {\"font\": {\"family\": \"Helvetica\", \"size\": 18}, \"standoff\": 20}}}}, \"title\": {\"text\": \"Current plans for Summer 2021\", \"xanchor\": \"center\", \"yanchor\": \"top\"}},                        {\"responsive\": true}                    ).then(function(){\n                            \nvar gd = document.getElementById('934f2d15-2ac2-4869-89d6-47d47641a4f1');\nvar x = new MutationObserver(function (mutations, observer) {{\n        var display = window.getComputedStyle(gd).display;\n        if (!display || display === 'none') {{\n            console.log([gd, 'removed!']);\n            Plotly.purge(gd);\n            observer.disconnect();\n        }}\n}});\n\n// Listen for the removal of the full notebook cells\nvar notebookContainer = gd.closest('#notebook-container');\nif (notebookContainer) {{\n    x.observe(notebookContainer, {childList: true});\n}}\n\n// Listen for the clearing of the current output cell\nvar outputEl = gd.closest('.output');\nif (outputEl) {{\n    x.observe(outputEl, {childList: true});\n}}\n\n                        })                };                            </script>        </div>\n</body>\n</html>"
          },
          "metadata": {},
          "output_type": "display_data"
        }
      ]
    },
    {
      "cell_type": "code",
      "metadata": {
        "tags": [],
        "cell_id": "00025-d3cbfbad-de6c-4ad7-9108-543b873f86a4",
        "deepnote_to_be_reexecuted": false,
        "source_hash": "8d299df3",
        "execution_millis": 10,
        "execution_start": 1617835561661,
        "deepnote_cell_type": "code"
      },
      "source": "    df_plan[\"label_other_2021\"].value_counts()",
      "execution_count": 42,
      "outputs": [
        {
          "output_type": "execute_result",
          "execution_count": 42,
          "data": {
            "text/plain": "Summer school                             10\nPart-time Internship and part-time job     3\nTravel                                     1\nName: label_other_2021, dtype: int64"
          },
          "metadata": {}
        }
      ]
    },
    {
      "cell_type": "code",
      "metadata": {
        "tags": [],
        "cell_id": "00026-fab794eb-e0fc-438c-86bb-4fdde64c5cf3",
        "deepnote_to_be_reexecuted": false,
        "source_hash": "942ec704",
        "execution_millis": 10,
        "execution_start": 1617835562564,
        "deepnote_cell_type": "code"
      },
      "source": "labels = [\"Summer school\", \"Part-time Internship and part-time job\", \"Travel\"]\nvalues = [10, 3, 1]\ncolors = ['#C63F3F', '#F4B436', '#83BFCC']\n\nfig = go.Figure()\n\nfig.add_trace(go.Pie(\n    values=values, \n    labels=labels,\n    marker_colors=colors\n))\n\n# update the layout\nfig.update_layout(\n   title={'text': \"Breakdown of 'Other' response in Summer 2021 plans\",\n            'xanchor': 'center',\n            'yanchor': 'top' },\n   legend= {'title':{'text':'Legend Title'},\n            'xanchor': 'center',\n            'yanchor': 'top'},\n   template=theme_hodp\n)\nfig.show()",
      "execution_count": 43,
      "outputs": [
        {
          "data": {
            "text/html": "<html>\n<head><meta charset=\"utf-8\" /></head>\n<body>\n    <div>            <script src=\"https://cdnjs.cloudflare.com/ajax/libs/mathjax/2.7.5/MathJax.js?config=TeX-AMS-MML_SVG\"></script><script type=\"text/javascript\">if (window.MathJax) {MathJax.Hub.Config({SVG: {font: \"STIX-Web\"}});}</script>                <script type=\"text/javascript\">window.PlotlyConfig = {MathJaxConfig: 'local'};</script>\n        <script src=\"https://cdn.plot.ly/plotly-latest.min.js\"></script>                <div id=\"428eab5e-6711-46ca-90ec-42683b549136\" class=\"plotly-graph-div\" style=\"height:525px; width:100%;\"></div>            <script type=\"text/javascript\">                                    window.PLOTLYENV=window.PLOTLYENV || {};                                    if (document.getElementById(\"428eab5e-6711-46ca-90ec-42683b549136\")) {                    Plotly.newPlot(                        \"428eab5e-6711-46ca-90ec-42683b549136\",                        [{\"labels\": [\"Summer school\", \"Part-time Internship and part-time job\", \"Travel\"], \"marker\": {\"colors\": [\"#C63F3F\", \"#F4B436\", \"#83BFCC\"]}, \"type\": \"pie\", \"values\": [10, 3, 1]}],                        {\"legend\": {\"title\": {\"text\": \"Legend Title\"}, \"xanchor\": \"center\", \"yanchor\": \"top\"}, \"template\": {\"layout\": {\"coloraxis\": {\"autocolorscale\": true, \"cauto\": true, \"colorbar\": {\"tickfont\": {\"family\": \"Helvetica\", \"size\": 14}, \"title\": {\"font\": {\"family\": \"Helvetica\", \"size\": 18}}}}, \"colorscale\": {\"diverging\": [[0.0, \"#251616\"], [0.25, \"#760000\"], [0.5, \"#C63F3F\"], [0.75, \"#E28073\"], [1.0, \"#F1D3CF\"]]}, \"font\": {\"color\": \"#717171\", \"family\": \"Helvetica\", \"size\": 18}, \"legend\": {\"bgcolor\": \"rgba(0,0,0,0)\", \"font\": {\"family\": \"Helvetica\", \"size\": 14}, \"title\": {\"font\": {\"color\": \"#251616\", \"family\": \"Helvetica\", \"size\": 18}}, \"yanchor\": \"bottom\"}, \"title\": {\"font\": {\"color\": \"#251616\", \"family\": \"Helvetica\", \"size\": 24}, \"pad\": {\"b\": 0, \"l\": 0, \"r\": 0, \"t\": 100}}, \"xaxis\": {\"automargin\": true, \"showline\": true, \"showtickprefix\": \"last\", \"showticksuffix\": \"all\", \"tickfont\": {\"family\": \"Helvetica\", \"size\": 14}, \"ticks\": \"outside\", \"title\": {\"font\": {\"family\": \"Helvetica\", \"size\": 18}, \"standoff\": 20}}, \"yaxis\": {\"automargin\": true, \"showline\": true, \"showtickprefix\": \"last\", \"showticksuffix\": \"all\", \"tickfont\": {\"family\": \"Helvetica\", \"size\": 14}, \"ticks\": \"outside\", \"title\": {\"font\": {\"family\": \"Helvetica\", \"size\": 18}, \"standoff\": 20}}}}, \"title\": {\"text\": \"Breakdown of 'Other' response in Summer 2021 plans\", \"xanchor\": \"center\", \"yanchor\": \"top\"}},                        {\"responsive\": true}                    ).then(function(){\n                            \nvar gd = document.getElementById('428eab5e-6711-46ca-90ec-42683b549136');\nvar x = new MutationObserver(function (mutations, observer) {{\n        var display = window.getComputedStyle(gd).display;\n        if (!display || display === 'none') {{\n            console.log([gd, 'removed!']);\n            Plotly.purge(gd);\n            observer.disconnect();\n        }}\n}});\n\n// Listen for the removal of the full notebook cells\nvar notebookContainer = gd.closest('#notebook-container');\nif (notebookContainer) {{\n    x.observe(notebookContainer, {childList: true});\n}}\n\n// Listen for the clearing of the current output cell\nvar outputEl = gd.closest('.output');\nif (outputEl) {{\n    x.observe(outputEl, {childList: true});\n}}\n\n                        })                };                            </script>        </div>\n</body>\n</html>"
          },
          "metadata": {},
          "output_type": "display_data"
        }
      ]
    },
    {
      "cell_type": "code",
      "metadata": {
        "tags": [],
        "cell_id": "00027-e2501040-7407-40fd-aefe-c8b4dc28dd8d",
        "deepnote_to_be_reexecuted": false,
        "source_hash": "2c14acc5",
        "execution_millis": 9,
        "execution_start": 1617835564211,
        "deepnote_cell_type": "code"
      },
      "source": "df_plan[\"Q4\"].value_counts()",
      "execution_count": 44,
      "outputs": [
        {
          "output_type": "execute_result",
          "execution_count": 44,
          "data": {
            "text/plain": "Full-Time Internship                                     35\nNo Plans                                                 27\nResearch                                                 24\nPart-Time Internship                                     19\nFull-Time Job                                            15\nOther                                                    13\nPart-Time Job                                            12\nVolunteering                                              4\nWhat did you do during Summer 2020? - Selected Choice     1\nName: Q4, dtype: int64"
          },
          "metadata": {}
        }
      ]
    },
    {
      "cell_type": "code",
      "metadata": {
        "tags": [],
        "cell_id": "00029-396cd6a2-36c6-4191-acf4-79e7b8fe6272",
        "deepnote_to_be_reexecuted": false,
        "source_hash": "a9409eaa",
        "execution_millis": 10,
        "execution_start": 1617835565068,
        "deepnote_cell_type": "code"
      },
      "source": "df_plan[\"Q4\"].replace(to_replace=[\"Full-Time Internship\", \"Full-Time Job\"], value='Full-time Internship or Job', inplace = True)\ndf_plan[\"Q4\"].replace(to_replace=[\"Part-Time Internship\", \"Part-Time Job\"], value='Part-time Internship or Job', inplace = True)\ndf_plan[\"Q4\"].value_counts()",
      "execution_count": 45,
      "outputs": [
        {
          "output_type": "execute_result",
          "execution_count": 45,
          "data": {
            "text/plain": "Full-time Internship or Job                              50\nPart-time Internship or Job                              31\nNo Plans                                                 27\nResearch                                                 24\nOther                                                    13\nVolunteering                                              4\nWhat did you do during Summer 2020? - Selected Choice     1\nName: Q4, dtype: int64"
          },
          "metadata": {}
        }
      ]
    },
    {
      "cell_type": "code",
      "metadata": {
        "tags": [],
        "cell_id": "00028-c7adc60e-9fa8-40a3-80f5-f3cbea6b80be",
        "deepnote_to_be_reexecuted": false,
        "source_hash": "339a28c7",
        "execution_millis": 29,
        "execution_start": 1617835566609,
        "deepnote_cell_type": "code"
      },
      "source": "labels = [\"Full-Time Internship\", \"Part-Time Internship or Job\", \"No Plans\",\"Research\", \"Other\", \"Volunteering\"]\nvalues = [50, 31, 27, 24, 13, 4]\ncolors = ['#501818', '#C63F3F', '#D87C7C', '#F4B436', '#83BFCC', '#455574']\n\n# initialize the figure\nfig = go.Figure()\n\n# add a trace\nfig.add_trace(go.Pie(\n   values=values, \n   labels=labels,\n   marker_colors=colors,\n))\n\n# update the layout\nfig.update_layout(\n   title={'text': \"Student jobs during Summer 2020\",\n            'xanchor': 'center',\n            'yanchor': 'top' },\n   legend= {'title':{'text':'Legend Title'},\n            'xanchor': 'center',\n            'yanchor': 'top'},\n   template=theme_hodp\n)\n\n# display the figure\nfig.show()",
      "execution_count": 46,
      "outputs": [
        {
          "data": {
            "text/html": "<html>\n<head><meta charset=\"utf-8\" /></head>\n<body>\n    <div>            <script src=\"https://cdnjs.cloudflare.com/ajax/libs/mathjax/2.7.5/MathJax.js?config=TeX-AMS-MML_SVG\"></script><script type=\"text/javascript\">if (window.MathJax) {MathJax.Hub.Config({SVG: {font: \"STIX-Web\"}});}</script>                <script type=\"text/javascript\">window.PlotlyConfig = {MathJaxConfig: 'local'};</script>\n        <script src=\"https://cdn.plot.ly/plotly-latest.min.js\"></script>                <div id=\"a5f59e56-75c5-4424-9c79-8e4706a7d15c\" class=\"plotly-graph-div\" style=\"height:525px; width:100%;\"></div>            <script type=\"text/javascript\">                                    window.PLOTLYENV=window.PLOTLYENV || {};                                    if (document.getElementById(\"a5f59e56-75c5-4424-9c79-8e4706a7d15c\")) {                    Plotly.newPlot(                        \"a5f59e56-75c5-4424-9c79-8e4706a7d15c\",                        [{\"labels\": [\"Full-Time Internship\", \"Part-Time Internship or Job\", \"No Plans\", \"Research\", \"Other\", \"Volunteering\"], \"marker\": {\"colors\": [\"#501818\", \"#C63F3F\", \"#D87C7C\", \"#F4B436\", \"#83BFCC\", \"#455574\"]}, \"type\": \"pie\", \"values\": [50, 31, 27, 24, 13, 4]}],                        {\"legend\": {\"title\": {\"text\": \"Legend Title\"}, \"xanchor\": \"center\", \"yanchor\": \"top\"}, \"template\": {\"layout\": {\"coloraxis\": {\"autocolorscale\": true, \"cauto\": true, \"colorbar\": {\"tickfont\": {\"family\": \"Helvetica\", \"size\": 14}, \"title\": {\"font\": {\"family\": \"Helvetica\", \"size\": 18}}}}, \"colorscale\": {\"diverging\": [[0.0, \"#251616\"], [0.25, \"#760000\"], [0.5, \"#C63F3F\"], [0.75, \"#E28073\"], [1.0, \"#F1D3CF\"]]}, \"font\": {\"color\": \"#717171\", \"family\": \"Helvetica\", \"size\": 18}, \"legend\": {\"bgcolor\": \"rgba(0,0,0,0)\", \"font\": {\"family\": \"Helvetica\", \"size\": 14}, \"title\": {\"font\": {\"color\": \"#251616\", \"family\": \"Helvetica\", \"size\": 18}}, \"yanchor\": \"bottom\"}, \"title\": {\"font\": {\"color\": \"#251616\", \"family\": \"Helvetica\", \"size\": 24}, \"pad\": {\"b\": 0, \"l\": 0, \"r\": 0, \"t\": 100}}, \"xaxis\": {\"automargin\": true, \"showline\": true, \"showtickprefix\": \"last\", \"showticksuffix\": \"all\", \"tickfont\": {\"family\": \"Helvetica\", \"size\": 14}, \"ticks\": \"outside\", \"title\": {\"font\": {\"family\": \"Helvetica\", \"size\": 18}, \"standoff\": 20}}, \"yaxis\": {\"automargin\": true, \"showline\": true, \"showtickprefix\": \"last\", \"showticksuffix\": \"all\", \"tickfont\": {\"family\": \"Helvetica\", \"size\": 14}, \"ticks\": \"outside\", \"title\": {\"font\": {\"family\": \"Helvetica\", \"size\": 18}, \"standoff\": 20}}}}, \"title\": {\"text\": \"Student jobs during Summer 2020\", \"xanchor\": \"center\", \"yanchor\": \"top\"}},                        {\"responsive\": true}                    ).then(function(){\n                            \nvar gd = document.getElementById('a5f59e56-75c5-4424-9c79-8e4706a7d15c');\nvar x = new MutationObserver(function (mutations, observer) {{\n        var display = window.getComputedStyle(gd).display;\n        if (!display || display === 'none') {{\n            console.log([gd, 'removed!']);\n            Plotly.purge(gd);\n            observer.disconnect();\n        }}\n}});\n\n// Listen for the removal of the full notebook cells\nvar notebookContainer = gd.closest('#notebook-container');\nif (notebookContainer) {{\n    x.observe(notebookContainer, {childList: true});\n}}\n\n// Listen for the clearing of the current output cell\nvar outputEl = gd.closest('.output');\nif (outputEl) {{\n    x.observe(outputEl, {childList: true});\n}}\n\n                        })                };                            </script>        </div>\n</body>\n</html>"
          },
          "metadata": {},
          "output_type": "display_data"
        }
      ]
    },
    {
      "cell_type": "code",
      "metadata": {
        "tags": [],
        "cell_id": "00029-d518dce0-295c-453d-aa06-2fd28fb8e79f",
        "deepnote_to_be_reexecuted": false,
        "source_hash": "3b6e5e82",
        "execution_millis": 9,
        "execution_start": 1617835568383,
        "deepnote_cell_type": "code"
      },
      "source": "df_plan[\"label_other_2020\"].value_counts()",
      "execution_count": 47,
      "outputs": [
        {
          "output_type": "execute_result",
          "execution_count": 47,
          "data": {
            "text/plain": "Summer school                             7\nPart-time Internship and part-time job    4\nPart-time job and summer school           1\nName: label_other_2020, dtype: int64"
          },
          "metadata": {}
        }
      ]
    },
    {
      "cell_type": "code",
      "metadata": {
        "tags": [],
        "cell_id": "00030-54217099-5eda-4009-985f-b0ef9be61651",
        "deepnote_to_be_reexecuted": false,
        "source_hash": "6fa54f7e",
        "execution_millis": 11,
        "execution_start": 1617835569009,
        "deepnote_cell_type": "code"
      },
      "source": "labels = [\"Summer school\", \"Part-time Internship and part-time job\", \"Part-time job and summer school\"]\nvalues = [7, 4, 1]\ncolors = ['#C63F3F', '#F4B436', '#83BFCC']\n\nfig = go.Figure()\n\nfig.add_trace(go.Pie(\n    values=values, \n    labels=labels,\n    marker_colors=colors\n))\n\n# update the layout\nfig.update_layout(\n    title={'text': \"Breakdown of 'Other' response in Summer 2020 jobs\",\n            'xanchor': 'center',\n            'yanchor': 'top' },\n    legend= {'title':{'text':'Legend Title'},\n            'xanchor': 'center',\n            'yanchor': 'top'},\n   template=theme_hodp\n)\nfig.show()",
      "execution_count": 48,
      "outputs": [
        {
          "data": {
            "text/html": "<html>\n<head><meta charset=\"utf-8\" /></head>\n<body>\n    <div>            <script src=\"https://cdnjs.cloudflare.com/ajax/libs/mathjax/2.7.5/MathJax.js?config=TeX-AMS-MML_SVG\"></script><script type=\"text/javascript\">if (window.MathJax) {MathJax.Hub.Config({SVG: {font: \"STIX-Web\"}});}</script>                <script type=\"text/javascript\">window.PlotlyConfig = {MathJaxConfig: 'local'};</script>\n        <script src=\"https://cdn.plot.ly/plotly-latest.min.js\"></script>                <div id=\"77f22d0e-a784-46bb-973e-8655ce765bed\" class=\"plotly-graph-div\" style=\"height:525px; width:100%;\"></div>            <script type=\"text/javascript\">                                    window.PLOTLYENV=window.PLOTLYENV || {};                                    if (document.getElementById(\"77f22d0e-a784-46bb-973e-8655ce765bed\")) {                    Plotly.newPlot(                        \"77f22d0e-a784-46bb-973e-8655ce765bed\",                        [{\"labels\": [\"Summer school\", \"Part-time Internship and part-time job\", \"Part-time job and summer school\"], \"marker\": {\"colors\": [\"#C63F3F\", \"#F4B436\", \"#83BFCC\"]}, \"type\": \"pie\", \"values\": [7, 4, 1]}],                        {\"legend\": {\"title\": {\"text\": \"Legend Title\"}, \"xanchor\": \"center\", \"yanchor\": \"top\"}, \"template\": {\"layout\": {\"coloraxis\": {\"autocolorscale\": true, \"cauto\": true, \"colorbar\": {\"tickfont\": {\"family\": \"Helvetica\", \"size\": 14}, \"title\": {\"font\": {\"family\": \"Helvetica\", \"size\": 18}}}}, \"colorscale\": {\"diverging\": [[0.0, \"#251616\"], [0.25, \"#760000\"], [0.5, \"#C63F3F\"], [0.75, \"#E28073\"], [1.0, \"#F1D3CF\"]]}, \"font\": {\"color\": \"#717171\", \"family\": \"Helvetica\", \"size\": 18}, \"legend\": {\"bgcolor\": \"rgba(0,0,0,0)\", \"font\": {\"family\": \"Helvetica\", \"size\": 14}, \"title\": {\"font\": {\"color\": \"#251616\", \"family\": \"Helvetica\", \"size\": 18}}, \"yanchor\": \"bottom\"}, \"title\": {\"font\": {\"color\": \"#251616\", \"family\": \"Helvetica\", \"size\": 24}, \"pad\": {\"b\": 0, \"l\": 0, \"r\": 0, \"t\": 100}}, \"xaxis\": {\"automargin\": true, \"showline\": true, \"showtickprefix\": \"last\", \"showticksuffix\": \"all\", \"tickfont\": {\"family\": \"Helvetica\", \"size\": 14}, \"ticks\": \"outside\", \"title\": {\"font\": {\"family\": \"Helvetica\", \"size\": 18}, \"standoff\": 20}}, \"yaxis\": {\"automargin\": true, \"showline\": true, \"showtickprefix\": \"last\", \"showticksuffix\": \"all\", \"tickfont\": {\"family\": \"Helvetica\", \"size\": 14}, \"ticks\": \"outside\", \"title\": {\"font\": {\"family\": \"Helvetica\", \"size\": 18}, \"standoff\": 20}}}}, \"title\": {\"text\": \"Breakdown of 'Other' response in Summer 2020 jobs\", \"xanchor\": \"center\", \"yanchor\": \"top\"}},                        {\"responsive\": true}                    ).then(function(){\n                            \nvar gd = document.getElementById('77f22d0e-a784-46bb-973e-8655ce765bed');\nvar x = new MutationObserver(function (mutations, observer) {{\n        var display = window.getComputedStyle(gd).display;\n        if (!display || display === 'none') {{\n            console.log([gd, 'removed!']);\n            Plotly.purge(gd);\n            observer.disconnect();\n        }}\n}});\n\n// Listen for the removal of the full notebook cells\nvar notebookContainer = gd.closest('#notebook-container');\nif (notebookContainer) {{\n    x.observe(notebookContainer, {childList: true});\n}}\n\n// Listen for the clearing of the current output cell\nvar outputEl = gd.closest('.output');\nif (outputEl) {{\n    x.observe(outputEl, {childList: true});\n}}\n\n                        })                };                            </script>        </div>\n</body>\n</html>"
          },
          "metadata": {},
          "output_type": "display_data"
        }
      ]
    },
    {
      "cell_type": "markdown",
      "source": "<a style='text-decoration:none;line-height:16px;display:flex;color:#5B5B62;padding:10px;justify-content:end;' href='https://deepnote.com?utm_source=created-in-deepnote-cell&projectId=402f4a20-c0d8-4058-bf08-addea464f714' target=\"_blank\">\n<img alt='Created in deepnote.com' style='display:inline;max-height:16px;margin:0px;margin-right:7.5px;' src='data:image/svg+xml;base64,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' > </img>\nCreated in <span style='font-weight:600;margin-left:4px;'>Deepnote</span></a>",
      "metadata": {
        "tags": [],
        "created_in_deepnote_cell": true,
        "deepnote_cell_type": "markdown"
      }
    }
  ],
  "nbformat": 4,
  "nbformat_minor": 2,
  "metadata": {
    "orig_nbformat": 2,
    "deepnote_notebook_id": "d8c850bb-3175-4cb5-9bf3-4b45bc00ffd8",
    "deepnote": {},
    "deepnote_execution_queue": []
  }
}